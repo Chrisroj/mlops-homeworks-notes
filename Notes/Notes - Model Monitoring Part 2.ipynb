{
 "cells": [
  {
   "cell_type": "markdown",
   "id": "ff28edd5-f6bd-488b-a6e2-79bed3619360",
   "metadata": {},
   "source": [
    "# Evidently\n",
    "\n",
    "**Evidently is an open source tool to analyze, validate and monitor ML models in production**. Evidently helps analyze and track data and ML model quality throughout the model lifecycle. You can think of it as an evaluation layer that fits into the existing ML stack.\n",
    "\n",
    "\n",
    "\n",
    "**Note:** There is a lightweight integration with Prometheus and Grafana that comes with pre-built dashboards."
   ]
  },
  {
   "cell_type": "markdown",
   "id": "c3643224-9a69-46e9-baed-def3a1c56950",
   "metadata": {},
   "source": []
  },
  {
   "cell_type": "code",
   "execution_count": null,
   "id": "8fc90f2e-216d-4ca0-b5cc-579740357600",
   "metadata": {},
   "outputs": [],
   "source": []
  },
  {
   "cell_type": "markdown",
   "id": "0b927e3c-f96c-45ed-9366-cad59503df32",
   "metadata": {},
   "source": [
    "## Monitoring for ML-based services"
   ]
  },
  {
   "cell_type": "code",
   "execution_count": null,
   "id": "902afd04-a805-4519-a3bf-92da8ba41249",
   "metadata": {},
   "outputs": [],
   "source": []
  },
  {
   "cell_type": "code",
   "execution_count": null,
   "id": "f4be8c26-50c1-4346-a233-c07d2a690a86",
   "metadata": {},
   "outputs": [],
   "source": []
  },
  {
   "cell_type": "markdown",
   "id": "093130d2-98fb-41b3-a59a-10a92313bc91",
   "metadata": {},
   "source": [
    "### Why monitor ML models?\n",
    "\n",
    "There are a lot of things that may affect **models quality** in production, some of them:\n",
    "\n",
    "* Data Drift: In which new input data is no longer represented by the model's training dataset. Example: 3 new popular venues were opened in the last month, our Taxi duration model hasn't got samples of this new data in its training dataset. **Features or target distribution has change**.\n",
    "\n",
    "* Concept Drift: In which the concept changes, i.e: **The relationship between inputs and outputs has changed** (Not necessarily the data itself however).This drift as the name implies is due to \"concepts\" (i.e: hidden variables, underpinning hypotheses..etc) changing. Example: Taxi cars have been replaced by newer, faster, nimbler cars. Our model can no longer accurately predict trip durations\n",
    "\n",
    "**Note:** In most cases when something is wrong with the model that's because the **data is wrong**.\n",
    "\n",
    "At some moment model's quality can decrease and we need to detect this moment in order to intervene and do something for example       \n",
    "\n",
    "* Retrain our model \n",
    "* Entirely rebuild \n",
    "* Go back to some robust system \n",
    "\n",
    "How we can detect that moment and fix our model?  with **monitoring**.\n",
    "\n",
    "### Aspects to monitor\n",
    "\n",
    "Our ML production models are production software and thus face the same problems faced by other production SE/SD(Software Engineering/Software Development) software. However, in addition to these general issues, certain ML-specific issues may occur in ML production models that don't in SE/SD. As such, SE/SD tools are not sufficient to monitor ML production models.\n",
    "\n",
    "Monitoring ML models is mostly around monitoring four sectors:\n",
    "\n",
    "* Service Health: General Software health check\n",
    "* Model Performance: Depending on metrics for the problem\n",
    "* Data Quality and integrity\n",
    "* Data Drift & Concept Drift\n",
    "\n",
    "\n",
    "In a more comprehensive setting, we may as well monitor 4 criteria:\n",
    "\n",
    "* Performance by Segment: Performance in each segment of the input distribution\n",
    "* Model bias/fairness\n",
    "* Outliers\n",
    "* Explainability\n",
    "\n"
   ]
  },
  {
   "cell_type": "markdown",
   "id": "04e1ccc3-9df7-42a8-8fd2-59064f110864",
   "metadata": {},
   "source": [
    "### Monitoring in different paradigms\n",
    "\n",
    "**Batch**\n",
    "\n",
    "In Batch Models, we implement batch monitoring. We add some calculation block after step in the pipeline and run some checks to make sure that the model behaves as expected. In other words:\n",
    "\n",
    "* Calculate performance metrics and health metrics\n",
    "* Log the metrics in a SQL or NoSQL database\n",
    "* Build a report\n",
    "\n",
    "**Online models**\n",
    "\n",
    "In real-time served models, we may want to keep a closer live look on how the model performs. We add a service that pulls metrics and update the visuals in real time.\n",
    "\n",
    "If you need to get a service that pulls metrics in real time and update your dashboards in real time in this case prometheus and grafana is a good combination.\n",
    "**_Prometheus_** is a monitoring solution for storing time series data like metrics. **_Grafana_** allows to visualize the data stored in Prometheus (and other sources).\n",
    "\n",
    "**Note:** Even if you have online serving model you might want to keep monitoring batch, it makes sense for a lot of metrics and data drift is a good example of such metri,c there is no need to update your data drift estimation after each new rows of data, you basically want to collect some bunch of data first and then calculate drift so if you do not need to get real-time updates on your model's quality you might implement the monitoring for your real-time service model in batch way."
   ]
  },
  {
   "cell_type": "markdown",
   "id": "376846a5-dc35-4dff-be80-ce836e511ab3",
   "metadata": {},
   "source": [
    " "
   ]
  },
  {
   "cell_type": "code",
   "execution_count": null,
   "id": "30ea3ca7-00e8-41be-9635-f05928cecd0b",
   "metadata": {},
   "outputs": [],
   "source": []
  },
  {
   "cell_type": "markdown",
   "id": "166ebe64-409b-4405-8d1f-a82134754860",
   "metadata": {},
   "source": []
  },
  {
   "cell_type": "code",
   "execution_count": null,
   "id": "8b935f24-b6a0-4765-9401-ee8421644c57",
   "metadata": {},
   "outputs": [],
   "source": []
  },
  {
   "cell_type": "markdown",
   "id": "f81c9f85-919a-4004-bc28-facf3bf3197a",
   "metadata": {},
   "source": []
  },
  {
   "cell_type": "markdown",
   "id": "25759f5f-1fb8-444d-a2a9-53f456af9eb0",
   "metadata": {},
   "source": [
    "Why monitor ML models? poner imagen del accuracy moviendose"
   ]
  },
  {
   "cell_type": "code",
   "execution_count": null,
   "id": "96c86f59-c27b-4177-b888-0538be675634",
   "metadata": {},
   "outputs": [],
   "source": [
    "en la sección Aspects to monitor poner imagen del glaciar"
   ]
  },
  {
   "cell_type": "code",
   "execution_count": null,
   "id": "a24693ab-b672-461e-a60b-5025f8409d07",
   "metadata": {},
   "outputs": [],
   "source": []
  },
  {
   "cell_type": "code",
   "execution_count": null,
   "id": "739da282-dfdc-4712-9107-460cefd524ce",
   "metadata": {},
   "outputs": [],
   "source": []
  },
  {
   "cell_type": "code",
   "execution_count": null,
   "id": "cace29e2-c3b3-400b-a2da-edfd37e8bf6a",
   "metadata": {},
   "outputs": [],
   "source": []
  },
  {
   "cell_type": "markdown",
   "id": "3b5a8651-5113-4ba3-97b7-2b91e9797ea6",
   "metadata": {},
   "source": []
  },
  {
   "cell_type": "code",
   "execution_count": null,
   "id": "dacaaa41-4093-4ed8-94b2-3c5be914e30f",
   "metadata": {},
   "outputs": [],
   "source": [
    "https://www.youtube.com/watch?v=gMiT11Bp05A&list=PL3MmuxUbc_hIUISrluw_A7wDSmfOhErJK"
   ]
  },
  {
   "cell_type": "code",
   "execution_count": null,
   "id": "e6e135cd-c085-4c32-a014-443ab7b7b5f2",
   "metadata": {},
   "outputs": [],
   "source": [
    "https://gist.github.com/Qfl3x/aa6b1bec35fb645ded0371c46e8aafd1"
   ]
  },
  {
   "cell_type": "code",
   "execution_count": null,
   "id": "56ab33f8-9fc5-4001-aca8-8247e4168e18",
   "metadata": {},
   "outputs": [],
   "source": []
  },
  {
   "cell_type": "code",
   "execution_count": null,
   "id": "b1c242f4-bcbb-4721-b917-ff3266953fb5",
   "metadata": {},
   "outputs": [],
   "source": []
  },
  {
   "cell_type": "code",
   "execution_count": null,
   "id": "6a998c6c-0597-4d9c-9904-e317cce63578",
   "metadata": {},
   "outputs": [],
   "source": []
  },
  {
   "cell_type": "code",
   "execution_count": null,
   "id": "3475e4ec-9c4c-4535-85b5-76dbd8755abd",
   "metadata": {},
   "outputs": [],
   "source": []
  },
  {
   "cell_type": "code",
   "execution_count": null,
   "id": "897c34a0-2f09-41fa-83be-bb7e459ced47",
   "metadata": {},
   "outputs": [],
   "source": []
  },
  {
   "cell_type": "code",
   "execution_count": null,
   "id": "f53842c6-b72a-4c0b-a3f9-0effe5fc8c3f",
   "metadata": {},
   "outputs": [],
   "source": []
  },
  {
   "cell_type": "code",
   "execution_count": null,
   "id": "e559e1f2-e8b8-4416-9595-a3a5aa6ddbb2",
   "metadata": {},
   "outputs": [],
   "source": []
  },
  {
   "cell_type": "code",
   "execution_count": null,
   "id": "ac552b97-086e-498e-b745-88f43425607b",
   "metadata": {},
   "outputs": [],
   "source": []
  },
  {
   "cell_type": "code",
   "execution_count": null,
   "id": "68378ad3-5a03-43d1-8eeb-92cb116b0b61",
   "metadata": {},
   "outputs": [],
   "source": []
  }
 ],
 "metadata": {
  "kernelspec": {
   "display_name": "ds",
   "language": "python",
   "name": "ds"
  },
  "language_info": {
   "codemirror_mode": {
    "name": "ipython",
    "version": 3
   },
   "file_extension": ".py",
   "mimetype": "text/x-python",
   "name": "python",
   "nbconvert_exporter": "python",
   "pygments_lexer": "ipython3",
   "version": "3.10.0"
  }
 },
 "nbformat": 4,
 "nbformat_minor": 5
}
