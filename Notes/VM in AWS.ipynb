{
 "cells": [
  {
   "cell_type": "markdown",
   "id": "6dce8c03-33ae-408b-9cb5-66bf71fe05c0",
   "metadata": {},
   "source": [
    "You need to have an AWS account, \n",
    "\n",
    "1. **Create EC2 instance:**\n",
    "\n",
    "    Go to EC2 service and click in launch instance(orange button), now config the VM as:\n",
    "    - Name: `mlops-zoomcamp`\n",
    "    - Amazon Machine Image: `Ubuntu Server 22.04 LTS (HVM), SSD Volume Type`\n",
    "    - Architecture: `64-bit (x86)`\n",
    "    - Instance type: `t2.large`    \n",
    "    - Create and select a key pair:   \n",
    "        - Key pair name: `asus-laptop`\n",
    "        - Key pair type: `RSA`\n",
    "        - Private key file format: `.pem`\n",
    "    - Configure Storage: `1x 30 Gib gp2 Root Volume`\n",
    "        \n",
    "\n",
    "\n",
    "2. **Copy and paste `.pem` file:** \n",
    "\n",
    "    When you create a key pair a `.pem` will downloaded automatically, you will have to copy and paste this file to your  `~/.ssh` directory in your local machine.\n",
    "    \n",
    "    \n",
    "3. **Connect to VM Instance:** \n",
    "\n",
    "    Go to `~./.ssh` directory and locate the `config` file type nano `~/.ssh/config` copy and paste:\n",
    "    \n",
    "    ```bash\n",
    "    Host mlops-zoomcamp\n",
    "        HostName EXTERNAL_IP\n",
    "        User USER\n",
    "        IdentityFile KEY_FILENAME_DIRECTORY\n",
    "        LocalForward PORT_1 IP:PORT_1\n",
    "        LocalForward PORT_2 IP:PORT_2\n",
    "        LocalForward PORT_3 IP:PORT_3\n",
    "    ```\n",
    "    \n",
    "    **Example:**\n",
    "\n",
    "    ```bash\n",
    "    Host mlops-zoomcamp\n",
    "        HostName 18.117.147.165\n",
    "        User ubuntu\n",
    "        IdentityFile C:\\Users\\ferro\\.ssh\\asus-laptop.pem\n",
    "        LocalForward 8888 localhost:8888\n",
    "        LocalForward 5000 127.0.0.1:5000\n",
    "        LocalForward 4200 0.0.0.0:4200\n",
    "    ```\n",
    "    \n",
    "    \n",
    "     \n",
    "The EXTERNAL_IP can change every time you power one the VM. \n",
    "Now you can type `ssh mlops-zoomcamp` in your console and you'll get connected to the VM.\n",
    "\n",
    "**Note0**: In step 4 in ```config``` file the last two lines are to forward multiple port through the same host, in this case \n",
    "```LocalForward 8888 localhost:8888``` is for jupyter, ```LocalForward 5000 127.0.0.1:5000``` is for MLflow and ```LocalForward 4200 0.0.0.0:4200``` is for Prefect. You can add more LocalForward if you want.\n",
    "\n",
    "**Note1**: Don't forget to power off the VM after your work you can use ```sudo poweroff```. \n",
    "\n",
    "**Note2**: if you get the next warning:\n",
    "```bash\n",
    "@@@@@@@@@@@@@@@@@@@@@@@@@@@@@@@@@@@@@@@@@@@@@@@@@@@@@@@@@@@\n",
    "@    WARNING: REMOTE HOST IDENTIFICATION HAS CHANGED!     @\n",
    "@@@@@@@@@@@@@@@@@@@@@@@@@@@@@@@@@@@@@@@@@@@@@@@@@@@@@@@@@@@\n",
    "```\n",
    "Then copy and paste the EXTERNAL_IP of your VM and type:\n",
    "\n",
    "```bash\n",
    "ssh-keygen -R EXTERNAL_IP\n",
    "```\n",
    "\n",
    "Example:\n",
    "\n",
    "\n",
    "```bash\n",
    "ssh-keygen -R \"34.125.105.3\"\n",
    "```"
   ]
  },
  {
   "cell_type": "markdown",
   "id": "510de166-d931-4b9a-b8f1-44ceaa7d71a5",
   "metadata": {},
   "source": []
  },
  {
   "cell_type": "code",
   "execution_count": null,
   "id": "43e70fc3-2958-4d03-bdc4-96f0d4b611c6",
   "metadata": {},
   "outputs": [],
   "source": []
  },
  {
   "cell_type": "markdown",
   "id": "51239707-f5a7-4ea9-8ebd-459003710d39",
   "metadata": {},
   "source": []
  },
  {
   "cell_type": "code",
   "execution_count": null,
   "id": "d691e27d-9c62-4827-bd76-188d5d133a8d",
   "metadata": {},
   "outputs": [],
   "source": []
  },
  {
   "cell_type": "code",
   "execution_count": null,
   "id": "40a9e4f1-919c-4c5f-8d39-9c62e9e11ae0",
   "metadata": {},
   "outputs": [],
   "source": []
  },
  {
   "cell_type": "code",
   "execution_count": null,
   "id": "c5100a4e-53be-43c4-9569-53ab0ca32d5e",
   "metadata": {},
   "outputs": [],
   "source": []
  },
  {
   "cell_type": "markdown",
   "id": "9641a1e6-63fd-43d6-bceb-856bd071d1d7",
   "metadata": {},
   "source": [
    "# Al final probarlo en la mac"
   ]
  },
  {
   "cell_type": "markdown",
   "id": "be90ca67-ceb3-4373-88be-59ade6472f16",
   "metadata": {},
   "source": []
  },
  {
   "cell_type": "markdown",
   "id": "28d30442-366e-4269-9516-dd54d9d1b277",
   "metadata": {},
   "source": []
  }
 ],
 "metadata": {
  "kernelspec": {
   "display_name": "ds",
   "language": "python",
   "name": "ds"
  },
  "language_info": {
   "codemirror_mode": {
    "name": "ipython",
    "version": 3
   },
   "file_extension": ".py",
   "mimetype": "text/x-python",
   "name": "python",
   "nbconvert_exporter": "python",
   "pygments_lexer": "ipython3",
   "version": "3.10.0"
  }
 },
 "nbformat": 4,
 "nbformat_minor": 5
}
