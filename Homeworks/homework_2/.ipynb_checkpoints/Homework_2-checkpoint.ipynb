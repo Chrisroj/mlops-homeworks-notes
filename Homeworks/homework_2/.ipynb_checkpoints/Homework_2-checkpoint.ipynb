{
 "cells": [
  {
   "cell_type": "markdown",
   "id": "dd749e2d",
   "metadata": {},
   "source": [
    "# Q1. Install MLflow\n",
    "\n",
    "To get started with MLflow you'll need to install the MLflow Python package.\n",
    "\n",
    "For this we recommend creating a separate Python environment, for example, you can use [conda environments](https://docs.conda.io/projects/conda/en/latest/user-guide/getting-started.html#managing-envs), and then install the package there with `pip` or `conda`.\n",
    "\n",
    "Once you installed the package, run the command `mlflow --version` and check the output.\n",
    "\n",
    "What's the version that you have?\n",
    "\n",
    "**mlflow, version 1.26.0**"
   ]
  },
  {
   "cell_type": "code",
   "execution_count": 3,
   "id": "dc6ed9a8",
   "metadata": {},
   "outputs": [
    {
     "name": "stdout",
     "output_type": "stream",
     "text": [
      "mlflow, version 1.26.0\r\n"
     ]
    }
   ],
   "source": [
    "!mlflow --version"
   ]
  },
  {
   "cell_type": "markdown",
   "id": "39977b3e",
   "metadata": {},
   "source": [
    "# Q2. Download and preprocess the data\n",
    "\n",
    "We'll use the Green Taxi Trip Records dataset. \n",
    "\n",
    "Download the data for January, February and March 2021 in parquet format from [here](https://www1.nyc.gov/site/tlc/about/tlc-trip-record-data.page).\n",
    "\n",
    "Use the script `preprocess_data.py` located in the folder [`homework`](https://github.com/DataTalksClub/mlops-zoomcamp/tree/main/02-experiment-tracking/homework) to preprocess the data.\n",
    "\n",
    "The script will\n",
    "\n",
    "- load the data from the folder `<TAXI_DATA_FOLDER>` (the folder where you have downloaded the data),\n",
    "- fit a `DictVectorizer` on the training set (January 2021 data),\n",
    "- save the preprocessed datasets and the model to disk\n",
    "\n",
    "Your task is to download the datasets and then execute this command:\n",
    "\n",
    "```\n",
    "python preprocess_data.py --raw_data_path <TAXI_DATA_FOLDER> --dest_path ./output\n",
    "```\n",
    "\n",
    "Tip: go to `02-experiment-tracking/homework/` folder before executing the command and change the value of `<TAXI_DATA_FOLDER>` to the location where you saved the data.\n",
    "\n",
    "How many files were saved to `OUTPUT_FOLDER`?\n",
    "\n",
    "* 1\n",
    "* 3\n",
    "* **4**\n",
    "* 7\n"
   ]
  },
  {
   "cell_type": "code",
   "execution_count": 5,
   "id": "92b23dd6",
   "metadata": {},
   "outputs": [],
   "source": [
    "!python preprocess_data.py --raw_data_path ./input --dest_path ./output"
   ]
  },
  {
   "cell_type": "code",
   "execution_count": 8,
   "id": "37052905",
   "metadata": {},
   "outputs": [
    {
     "data": {
      "text/plain": [
       "4"
      ]
     },
     "execution_count": 8,
     "metadata": {},
     "output_type": "execute_result"
    }
   ],
   "source": [
    "import os \n",
    "\n",
    "len(os.listdir(\"./output\"))"
   ]
  },
  {
   "cell_type": "markdown",
   "id": "d32df652",
   "metadata": {},
   "source": [
    "# Q3. Train a model with autolog\n",
    "\n",
    "We will train a random forest regressor (from Scikit-Learn) on the taxi dataset.\n",
    "\n",
    "We have prepared the training script `train.py` for this exercise, which can be also found in the folder `homework`. The script will load the datasets produced by the previous step, train the model on the training set and finally calculate the RMSE on the validation set.\n",
    "\n",
    "Your task is to modify the script to enable **autologging** with MLflow, execute the script and then launch the MLflow UI to check that the experiment run was properly tracked. \n",
    "\n",
    "Tip 1: don't forget to wrap the training code with a `with mlflow.start_run():` statement as we showed in the videos.\n",
    "\n",
    "Tip 2: don't modify the hyperparameters of the model to make sure that the training will finish quickly.\n",
    "\n",
    "How many parameters are automatically logged by MLflow?\n",
    "\n",
    "* 19\n",
    "* **17**\n",
    "* 10\n",
    "* 20"
   ]
  },
  {
   "cell_type": "code",
   "execution_count": 18,
   "id": "9348843d",
   "metadata": {},
   "outputs": [
    {
     "name": "stdout",
     "output_type": "stream",
     "text": [
      "Overwriting train_modified.py\n"
     ]
    }
   ],
   "source": [
    "%%writefile train_modified.py\n",
    "import argparse\n",
    "import os\n",
    "import pickle\n",
    "\n",
    "import mlflow\n",
    "\n",
    "from sklearn.ensemble import RandomForestRegressor\n",
    "from sklearn.metrics import mean_squared_error\n",
    "\n",
    "\n",
    "def load_pickle(filename: str):\n",
    "    with open(filename, \"rb\") as f_in:\n",
    "        return pickle.load(f_in)\n",
    "\n",
    "\n",
    "def run(data_path):\n",
    "\n",
    "    X_train, y_train = load_pickle(os.path.join(data_path, \"train.pkl\"))\n",
    "    X_valid, y_valid = load_pickle(os.path.join(data_path, \"valid.pkl\"))\n",
    "\n",
    "    rf = RandomForestRegressor(max_depth=10, random_state=0)\n",
    "    rf.fit(X_train, y_train)\n",
    "    y_pred = rf.predict(X_valid)\n",
    "\n",
    "    rmse = mean_squared_error(y_valid, y_pred, squared=False)\n",
    "\n",
    "\n",
    "if __name__ == '__main__':\n",
    "\n",
    "    parser = argparse.ArgumentParser()\n",
    "    parser.add_argument(\n",
    "        \"--data_path\",\n",
    "        default=\"./output\",\n",
    "        help=\"the location where the processed NYC taxi trip data was saved.\"\n",
    "    )\n",
    "    args = parser.parse_args()\n",
    "    \n",
    "    mlflow.set_tracking_uri(\"sqlite:///mlflow.db\")\n",
    "    mlflow.set_experiment(\"nyc-taxi-experiment\")\n",
    "    \n",
    "    mlflow.autolog()\n",
    "\n",
    "    with mlflow.start_run():\n",
    "        run(args.data_path)"
   ]
  },
  {
   "cell_type": "code",
   "execution_count": 19,
   "id": "eca82ccd",
   "metadata": {},
   "outputs": [
    {
     "name": "stderr",
     "output_type": "stream",
     "text": [
      "2022/05/27 21:54:05 WARNING mlflow.utils.autologging_utils: You are using an unsupported version of sklearn. If you encounter errors during autologging, try upgrading / downgrading sklearn to a supported version, or try upgrading MLflow.\n",
      "2022/05/27 21:54:06 INFO mlflow.tracking.fluent: Autologging successfully enabled for sklearn.\n",
      "2022/05/27 21:54:32 WARNING mlflow.utils.autologging_utils: MLflow autologging encountered a warning: \"/home/w10/anaconda3/envs/exp-tracking-env/lib/python3.9/site-packages/_distutils_hack/__init__.py:30: UserWarning: Setuptools is replacing distutils.\"\n"
     ]
    }
   ],
   "source": [
    "%run train_modified.py"
   ]
  },
  {
   "cell_type": "code",
   "execution_count": 20,
   "id": "d528ad16",
   "metadata": {},
   "outputs": [
    {
     "name": "stdout",
     "output_type": "stream",
     "text": [
      "[2022-05-27 21:54:44 +0000] [2979] [INFO] Starting gunicorn 20.1.0\n",
      "[2022-05-27 21:54:44 +0000] [2979] [INFO] Listening at: http://127.0.0.1:5000 (2979)\n",
      "[2022-05-27 21:54:44 +0000] [2979] [INFO] Using worker: sync\n",
      "[2022-05-27 21:54:44 +0000] [2980] [INFO] Booting worker with pid: 2980\n",
      "^C\n",
      "[2022-05-27 21:56:04 +0000] [2979] [INFO] Handling signal: int\n",
      "[2022-05-27 21:56:04 +0000] [2980] [INFO] Worker exiting (pid: 2980)\n"
     ]
    }
   ],
   "source": [
    "!mlflow ui --backend-store-uri sqlite:///mlflow.db"
   ]
  },
  {
   "cell_type": "markdown",
   "id": "2cb13ed6",
   "metadata": {},
   "source": [
    "# Q4. Launch the tracking server locally\n",
    "\n",
    "We want to manage the entire lifecycle of our ML model. In this step, you'll need to launch a tracking server. This way we will also have access to the model registry. \n",
    "\n",
    "Your task is to\n",
    "\n",
    "* launch the tracking server on your local machine\n",
    "* select a SQLite db for the backend store and a folder called `artifacts` for the artifacts store\n",
    "\n",
    "You should keep the tracking server running to work on the next two exercises that use the server.\n",
    "\n",
    "In addition to `backend-store-uri`, what else do you need to pass to properly configure the server?\n",
    "\n",
    "* **`default-artifact-root`**\n",
    "* `serve-artifacts`\n",
    "* `artifacts-only`\n",
    "* `artifacts-destination`\n"
   ]
  },
  {
   "cell_type": "code",
   "execution_count": null,
   "id": "a086237e",
   "metadata": {},
   "outputs": [],
   "source": [
    "!mlflow server --backend-store-uri sqlite:///backend.db --default-artifact-root ./artifacts"
   ]
  },
  {
   "cell_type": "markdown",
   "id": "2df6bc2e",
   "metadata": {},
   "source": [
    "# Q5. Tune the hyperparameters of the model\n",
    "\n",
    "Now let's try to reduce the validation error by tuning the hyperparameters of the random forest regressor using `hyperopt`.\n",
    "\n",
    "We have prepared the script `hpo.py` for this exercise. \n",
    "\n",
    "Your task is to modify the script `hpo.py` and make sure that the validation RMSE is logged to MLflow for each run of the hyperparameter optimization (you will need to add a few lines of code to the `objective` function) and run the script without passing any parameters.\n",
    "\n",
    "After that, open the MLflow UI and explore the runs from the experiment called `random-forest-hyperopt` to answer the question below.\n",
    "\n",
    "Important: don't use autologging for this exercise.\n",
    "\n",
    "The idea is to just log the information that you need to answer the question below, including:\n",
    "\n",
    "* the list of hyperparameters that are passed to the `objective` function during the optimization.\n",
    "* the RMSE obtained on the validation set (February 2021 data).\n",
    "\n",
    "What's the best validation RMSE that you got?\n",
    "\n",
    "* 6.128\n",
    "* **6.628**\n",
    "* 7.128\n",
    "* 7.628"
   ]
  },
  {
   "cell_type": "code",
   "execution_count": 21,
   "id": "6dbbc4ec",
   "metadata": {},
   "outputs": [
    {
     "name": "stdout",
     "output_type": "stream",
     "text": [
      "Writing hpo_modified.py\n"
     ]
    }
   ],
   "source": [
    "%%writefile hpo_modified.py\n",
    "import argparse\n",
    "import os\n",
    "import pickle\n",
    "\n",
    "import mlflow\n",
    "import numpy as np\n",
    "from hyperopt import STATUS_OK, Trials, fmin, hp, tpe\n",
    "from hyperopt.pyll import scope\n",
    "from sklearn.ensemble import RandomForestRegressor\n",
    "from sklearn.metrics import mean_squared_error\n",
    "\n",
    "mlflow.set_tracking_uri(\"http://127.0.0.1:5000\")\n",
    "mlflow.set_experiment(\"random-forest-hyperopt\")\n",
    "\n",
    "\n",
    "def load_pickle(filename):\n",
    "    with open(filename, \"rb\") as f_in:\n",
    "        return pickle.load(f_in)\n",
    "\n",
    "\n",
    "def run(data_path, num_trials):\n",
    "\n",
    "    X_train, y_train = load_pickle(os.path.join(data_path, \"train.pkl\"))\n",
    "    X_valid, y_valid = load_pickle(os.path.join(data_path, \"valid.pkl\"))\n",
    "\n",
    "    def objective(params):\n",
    "        \n",
    "        with mlflow.start_run():\n",
    "            mlflow.log_params(params)\n",
    "            rf = RandomForestRegressor(**params)\n",
    "            rf.fit(X_train, y_train)\n",
    "            y_pred = rf.predict(X_valid)\n",
    "            rmse = mean_squared_error(y_valid, y_pred, squared=False)\n",
    "            mlflow.log_metric(\"rmse\", rmse)\n",
    "\n",
    "        return {'loss': rmse, 'status': STATUS_OK}\n",
    "\n",
    "    search_space = {\n",
    "        'max_depth': scope.int(hp.quniform('max_depth', 1, 20, 1)),\n",
    "        'n_estimators': scope.int(hp.quniform('n_estimators', 10, 50, 1)),\n",
    "        'min_samples_split': scope.int(hp.quniform('min_samples_split', 2, 10, 1)),\n",
    "        'min_samples_leaf': scope.int(hp.quniform('min_samples_leaf', 1, 4, 1)),\n",
    "        'random_state': 42\n",
    "    }\n",
    "\n",
    "    rstate = np.random.default_rng(42)  # for reproducible results\n",
    "    fmin(\n",
    "        fn=objective,\n",
    "        space=search_space,\n",
    "        algo=tpe.suggest,\n",
    "        max_evals=num_trials,\n",
    "        trials=Trials(),\n",
    "        rstate=rstate\n",
    "    )\n",
    "\n",
    "\n",
    "if __name__ == '__main__':\n",
    "\n",
    "    parser = argparse.ArgumentParser()\n",
    "    parser.add_argument(\n",
    "        \"--data_path\",\n",
    "        default=\"./output\",\n",
    "        help=\"the location where the processed NYC taxi trip data was saved.\"\n",
    "    )\n",
    "    parser.add_argument(\n",
    "        \"--max_evals\",\n",
    "        default=50,\n",
    "        help=\"the number of parameter evaluations for the optimizer to explore.\"\n",
    "    )\n",
    "    args = parser.parse_args()\n",
    "\n",
    "    run(args.data_path, args.max_evals)\n"
   ]
  },
  {
   "cell_type": "code",
   "execution_count": 23,
   "id": "6306cc6e",
   "metadata": {},
   "outputs": [
    {
     "name": "stderr",
     "output_type": "stream",
     "text": [
      "2022/05/27 23:39:43 INFO mlflow.tracking.fluent: Experiment with name 'random-forest-hyperopt' does not exist. Creating a new experiment.\n"
     ]
    },
    {
     "name": "stdout",
     "output_type": "stream",
     "text": [
      "\r",
      "  0%|                                                           | 0/50 [00:00<?, ?trial/s, best loss=?]"
     ]
    },
    {
     "name": "stderr",
     "output_type": "stream",
     "text": [
      "2022/05/27 23:40:01 WARNING mlflow.utils.autologging_utils: Encountered unexpected error during sklearn autologging: The following failures occurred while performing one or more logging operations: [MlflowException('Failed to perform one or more operations on the run with ID 4bb25e0257524bf4bce592c778d8092a. Failed operations: [RestException(\"INVALID_PARAMETER_VALUE: Changing param values is not allowed. Params were already logged=\\'[{\\'key\\': \\'bootstrap\\', \\'old_value\\': None, \\'new_value\\': \\'True\\'}, {\\'key\\': \\'ccp_alpha\\', \\'old_value\\': None, \\'new_value\\': \\'0.0\\'}, {\\'key\\': \\'criterion\\', \\'old_value\\': None, \\'new_value\\': \\'squared_error\\'}, {\\'key\\': \\'max_features\\', \\'old_value\\': None, \\'new_value\\': \\'1.0\\'}, {\\'key\\': \\'max_leaf_nodes\\', \\'old_value\\': None, \\'new_value\\': \\'None\\'}, {\\'key\\': \\'max_samples\\', \\'old_value\\': None, \\'new_value\\': \\'None\\'}, {\\'key\\': \\'min_impurity_decrease\\', \\'old_value\\': None, \\'new_value\\': \\'0.0\\'}, {\\'key\\': \\'min_weight_fraction_leaf\\', \\'old_value\\': None, \\'new_value\\': \\'0.0\\'}, {\\'key\\': \\'n_jobs\\', \\'old_value\\': None, \\'new_value\\': \\'None\\'}, {\\'key\\': \\'oob_score\\', \\'old_value\\': None, \\'new_value\\': \\'False\\'}, {\\'key\\': \\'verbose\\', \\'old_value\\': None, \\'new_value\\': \\'0\\'}, {\\'key\\': \\'warm_start\\', \\'old_value\\': None, \\'new_value\\': \\'False\\'}]\\' for run ID=\\'4bb25e0257524bf4bce592c778d8092a\\'.\")]')]\n",
      "\n"
     ]
    },
    {
     "name": "stdout",
     "output_type": "stream",
     "text": [
      "\r",
      "  2%|▋                                 | 1/50 [00:17<14:40, 17.98s/trial, best loss: 6.658956269343007]"
     ]
    },
    {
     "name": "stderr",
     "output_type": "stream",
     "text": [
      "2022/05/27 23:40:05 WARNING mlflow.utils.autologging_utils: Encountered unexpected error during sklearn autologging: The following failures occurred while performing one or more logging operations: [MlflowException('Failed to perform one or more operations on the run with ID 0997c01d3cc84c8abc59a50fb728d216. Failed operations: [RestException(\"INVALID_PARAMETER_VALUE: Changing param values is not allowed. Params were already logged=\\'[{\\'key\\': \\'bootstrap\\', \\'old_value\\': None, \\'new_value\\': \\'True\\'}, {\\'key\\': \\'ccp_alpha\\', \\'old_value\\': None, \\'new_value\\': \\'0.0\\'}, {\\'key\\': \\'criterion\\', \\'old_value\\': None, \\'new_value\\': \\'squared_error\\'}, {\\'key\\': \\'max_features\\', \\'old_value\\': None, \\'new_value\\': \\'1.0\\'}, {\\'key\\': \\'max_leaf_nodes\\', \\'old_value\\': None, \\'new_value\\': \\'None\\'}, {\\'key\\': \\'max_samples\\', \\'old_value\\': None, \\'new_value\\': \\'None\\'}, {\\'key\\': \\'min_impurity_decrease\\', \\'old_value\\': None, \\'new_value\\': \\'0.0\\'}, {\\'key\\': \\'min_weight_fraction_leaf\\', \\'old_value\\': None, \\'new_value\\': \\'0.0\\'}, {\\'key\\': \\'n_jobs\\', \\'old_value\\': None, \\'new_value\\': \\'None\\'}, {\\'key\\': \\'oob_score\\', \\'old_value\\': None, \\'new_value\\': \\'False\\'}, {\\'key\\': \\'verbose\\', \\'old_value\\': None, \\'new_value\\': \\'0\\'}, {\\'key\\': \\'warm_start\\', \\'old_value\\': None, \\'new_value\\': \\'False\\'}]\\' for run ID=\\'0997c01d3cc84c8abc59a50fb728d216\\'.\")]')]\n",
      "\n"
     ]
    },
    {
     "name": "stdout",
     "output_type": "stream",
     "text": [
      "\r",
      "  4%|█▎                                | 2/50 [00:21<07:47,  9.74s/trial, best loss: 6.658956269343007]"
     ]
    },
    {
     "name": "stderr",
     "output_type": "stream",
     "text": [
      "2022/05/27 23:40:10 WARNING mlflow.utils.autologging_utils: Encountered unexpected error during sklearn autologging: The following failures occurred while performing one or more logging operations: [MlflowException('Failed to perform one or more operations on the run with ID 44456f2da0a4455ebf1de955d70abca2. Failed operations: [RestException(\"INVALID_PARAMETER_VALUE: Changing param values is not allowed. Params were already logged=\\'[{\\'key\\': \\'bootstrap\\', \\'old_value\\': None, \\'new_value\\': \\'True\\'}, {\\'key\\': \\'ccp_alpha\\', \\'old_value\\': None, \\'new_value\\': \\'0.0\\'}, {\\'key\\': \\'criterion\\', \\'old_value\\': None, \\'new_value\\': \\'squared_error\\'}, {\\'key\\': \\'max_features\\', \\'old_value\\': None, \\'new_value\\': \\'1.0\\'}, {\\'key\\': \\'max_leaf_nodes\\', \\'old_value\\': None, \\'new_value\\': \\'None\\'}, {\\'key\\': \\'max_samples\\', \\'old_value\\': None, \\'new_value\\': \\'None\\'}, {\\'key\\': \\'min_impurity_decrease\\', \\'old_value\\': None, \\'new_value\\': \\'0.0\\'}, {\\'key\\': \\'min_weight_fraction_leaf\\', \\'old_value\\': None, \\'new_value\\': \\'0.0\\'}, {\\'key\\': \\'n_jobs\\', \\'old_value\\': None, \\'new_value\\': \\'None\\'}, {\\'key\\': \\'oob_score\\', \\'old_value\\': None, \\'new_value\\': \\'False\\'}, {\\'key\\': \\'verbose\\', \\'old_value\\': None, \\'new_value\\': \\'0\\'}, {\\'key\\': \\'warm_start\\', \\'old_value\\': None, \\'new_value\\': \\'False\\'}]\\' for run ID=\\'44456f2da0a4455ebf1de955d70abca2\\'.\")]')]\n",
      "\n"
     ]
    },
    {
     "name": "stdout",
     "output_type": "stream",
     "text": [
      "\r",
      "  6%|██                                | 3/50 [00:26<05:49,  7.44s/trial, best loss: 6.658956269343007]"
     ]
    },
    {
     "name": "stderr",
     "output_type": "stream",
     "text": [
      "2022/05/27 23:40:25 WARNING mlflow.utils.autologging_utils: Encountered unexpected error during sklearn autologging: The following failures occurred while performing one or more logging operations: [MlflowException('Failed to perform one or more operations on the run with ID 23de6e7f577348c68817c7967dadffca. Failed operations: [RestException(\"INVALID_PARAMETER_VALUE: Changing param values is not allowed. Params were already logged=\\'[{\\'key\\': \\'bootstrap\\', \\'old_value\\': None, \\'new_value\\': \\'True\\'}, {\\'key\\': \\'ccp_alpha\\', \\'old_value\\': None, \\'new_value\\': \\'0.0\\'}, {\\'key\\': \\'criterion\\', \\'old_value\\': None, \\'new_value\\': \\'squared_error\\'}, {\\'key\\': \\'max_features\\', \\'old_value\\': None, \\'new_value\\': \\'1.0\\'}, {\\'key\\': \\'max_leaf_nodes\\', \\'old_value\\': None, \\'new_value\\': \\'None\\'}, {\\'key\\': \\'max_samples\\', \\'old_value\\': None, \\'new_value\\': \\'None\\'}, {\\'key\\': \\'min_impurity_decrease\\', \\'old_value\\': None, \\'new_value\\': \\'0.0\\'}, {\\'key\\': \\'min_weight_fraction_leaf\\', \\'old_value\\': None, \\'new_value\\': \\'0.0\\'}, {\\'key\\': \\'n_jobs\\', \\'old_value\\': None, \\'new_value\\': \\'None\\'}, {\\'key\\': \\'oob_score\\', \\'old_value\\': None, \\'new_value\\': \\'False\\'}, {\\'key\\': \\'verbose\\', \\'old_value\\': None, \\'new_value\\': \\'0\\'}, {\\'key\\': \\'warm_start\\', \\'old_value\\': None, \\'new_value\\': \\'False\\'}]\\' for run ID=\\'23de6e7f577348c68817c7967dadffca\\'.\")]')]\n",
      "\n"
     ]
    },
    {
     "name": "stdout",
     "output_type": "stream",
     "text": [
      "\r",
      "  8%|██▋                               | 4/50 [00:42<08:12, 10.71s/trial, best loss: 6.651438559376775]"
     ]
    },
    {
     "name": "stderr",
     "output_type": "stream",
     "text": [
      "2022/05/27 23:40:35 WARNING mlflow.utils.autologging_utils: Encountered unexpected error during sklearn autologging: The following failures occurred while performing one or more logging operations: [MlflowException('Failed to perform one or more operations on the run with ID 42322f76dc0842dd889a44bcb1b05d91. Failed operations: [RestException(\"INVALID_PARAMETER_VALUE: Changing param values is not allowed. Params were already logged=\\'[{\\'key\\': \\'bootstrap\\', \\'old_value\\': None, \\'new_value\\': \\'True\\'}, {\\'key\\': \\'ccp_alpha\\', \\'old_value\\': None, \\'new_value\\': \\'0.0\\'}, {\\'key\\': \\'criterion\\', \\'old_value\\': None, \\'new_value\\': \\'squared_error\\'}, {\\'key\\': \\'max_features\\', \\'old_value\\': None, \\'new_value\\': \\'1.0\\'}, {\\'key\\': \\'max_leaf_nodes\\', \\'old_value\\': None, \\'new_value\\': \\'None\\'}, {\\'key\\': \\'max_samples\\', \\'old_value\\': None, \\'new_value\\': \\'None\\'}, {\\'key\\': \\'min_impurity_decrease\\', \\'old_value\\': None, \\'new_value\\': \\'0.0\\'}, {\\'key\\': \\'min_weight_fraction_leaf\\', \\'old_value\\': None, \\'new_value\\': \\'0.0\\'}, {\\'key\\': \\'n_jobs\\', \\'old_value\\': None, \\'new_value\\': \\'None\\'}, {\\'key\\': \\'oob_score\\', \\'old_value\\': None, \\'new_value\\': \\'False\\'}, {\\'key\\': \\'verbose\\', \\'old_value\\': None, \\'new_value\\': \\'0\\'}, {\\'key\\': \\'warm_start\\', \\'old_value\\': None, \\'new_value\\': \\'False\\'}]\\' for run ID=\\'42322f76dc0842dd889a44bcb1b05d91\\'.\")]')]\n",
      "\n"
     ]
    },
    {
     "name": "stdout",
     "output_type": "stream",
     "text": [
      "\r",
      " 10%|███▍                              | 5/50 [00:51<07:39, 10.21s/trial, best loss: 6.651438559376775]"
     ]
    },
    {
     "name": "stderr",
     "output_type": "stream",
     "text": [
      "2022/05/27 23:40:58 WARNING mlflow.utils.autologging_utils: Encountered unexpected error during sklearn autologging: The following failures occurred while performing one or more logging operations: [MlflowException('Failed to perform one or more operations on the run with ID 9145506263a54929a5938da1f8beafd8. Failed operations: [RestException(\"INVALID_PARAMETER_VALUE: Changing param values is not allowed. Params were already logged=\\'[{\\'key\\': \\'bootstrap\\', \\'old_value\\': None, \\'new_value\\': \\'True\\'}, {\\'key\\': \\'ccp_alpha\\', \\'old_value\\': None, \\'new_value\\': \\'0.0\\'}, {\\'key\\': \\'criterion\\', \\'old_value\\': None, \\'new_value\\': \\'squared_error\\'}, {\\'key\\': \\'max_features\\', \\'old_value\\': None, \\'new_value\\': \\'1.0\\'}, {\\'key\\': \\'max_leaf_nodes\\', \\'old_value\\': None, \\'new_value\\': \\'None\\'}, {\\'key\\': \\'max_samples\\', \\'old_value\\': None, \\'new_value\\': \\'None\\'}, {\\'key\\': \\'min_impurity_decrease\\', \\'old_value\\': None, \\'new_value\\': \\'0.0\\'}, {\\'key\\': \\'min_weight_fraction_leaf\\', \\'old_value\\': None, \\'new_value\\': \\'0.0\\'}, {\\'key\\': \\'n_jobs\\', \\'old_value\\': None, \\'new_value\\': \\'None\\'}, {\\'key\\': \\'oob_score\\', \\'old_value\\': None, \\'new_value\\': \\'False\\'}, {\\'key\\': \\'verbose\\', \\'old_value\\': None, \\'new_value\\': \\'0\\'}, {\\'key\\': \\'warm_start\\', \\'old_value\\': None, \\'new_value\\': \\'False\\'}]\\' for run ID=\\'9145506263a54929a5938da1f8beafd8\\'.\")]')]\n",
      "\n"
     ]
    },
    {
     "name": "stdout",
     "output_type": "stream",
     "text": [
      "\r",
      " 12%|████                              | 6/50 [01:15<10:48, 14.73s/trial, best loss: 6.651438559376775]"
     ]
    },
    {
     "name": "stderr",
     "output_type": "stream",
     "text": [
      "2022/05/27 23:41:20 WARNING mlflow.utils.autologging_utils: Encountered unexpected error during sklearn autologging: The following failures occurred while performing one or more logging operations: [MlflowException('Failed to perform one or more operations on the run with ID d709f1dc0a3948ef90fc57bf4a156977. Failed operations: [RestException(\"INVALID_PARAMETER_VALUE: Changing param values is not allowed. Params were already logged=\\'[{\\'key\\': \\'bootstrap\\', \\'old_value\\': None, \\'new_value\\': \\'True\\'}, {\\'key\\': \\'ccp_alpha\\', \\'old_value\\': None, \\'new_value\\': \\'0.0\\'}, {\\'key\\': \\'criterion\\', \\'old_value\\': None, \\'new_value\\': \\'squared_error\\'}, {\\'key\\': \\'max_features\\', \\'old_value\\': None, \\'new_value\\': \\'1.0\\'}, {\\'key\\': \\'max_leaf_nodes\\', \\'old_value\\': None, \\'new_value\\': \\'None\\'}, {\\'key\\': \\'max_samples\\', \\'old_value\\': None, \\'new_value\\': \\'None\\'}, {\\'key\\': \\'min_impurity_decrease\\', \\'old_value\\': None, \\'new_value\\': \\'0.0\\'}, {\\'key\\': \\'min_weight_fraction_leaf\\', \\'old_value\\': None, \\'new_value\\': \\'0.0\\'}, {\\'key\\': \\'n_jobs\\', \\'old_value\\': None, \\'new_value\\': \\'None\\'}, {\\'key\\': \\'oob_score\\', \\'old_value\\': None, \\'new_value\\': \\'False\\'}, {\\'key\\': \\'verbose\\', \\'old_value\\': None, \\'new_value\\': \\'0\\'}, {\\'key\\': \\'warm_start\\', \\'old_value\\': None, \\'new_value\\': \\'False\\'}]\\' for run ID=\\'d709f1dc0a3948ef90fc57bf4a156977\\'.\")]')]\n",
      "\n"
     ]
    },
    {
     "name": "stdout",
     "output_type": "stream",
     "text": [
      "\r",
      " 14%|████▊                             | 7/50 [01:37<12:13, 17.07s/trial, best loss: 6.651438559376775]"
     ]
    },
    {
     "name": "stderr",
     "output_type": "stream",
     "text": [
      "2022/05/27 23:41:25 WARNING mlflow.utils.autologging_utils: Encountered unexpected error during sklearn autologging: The following failures occurred while performing one or more logging operations: [MlflowException('Failed to perform one or more operations on the run with ID a2597ec51767409196be5639a01af97b. Failed operations: [RestException(\"INVALID_PARAMETER_VALUE: Changing param values is not allowed. Params were already logged=\\'[{\\'key\\': \\'bootstrap\\', \\'old_value\\': None, \\'new_value\\': \\'True\\'}, {\\'key\\': \\'ccp_alpha\\', \\'old_value\\': None, \\'new_value\\': \\'0.0\\'}, {\\'key\\': \\'criterion\\', \\'old_value\\': None, \\'new_value\\': \\'squared_error\\'}, {\\'key\\': \\'max_features\\', \\'old_value\\': None, \\'new_value\\': \\'1.0\\'}, {\\'key\\': \\'max_leaf_nodes\\', \\'old_value\\': None, \\'new_value\\': \\'None\\'}, {\\'key\\': \\'max_samples\\', \\'old_value\\': None, \\'new_value\\': \\'None\\'}, {\\'key\\': \\'min_impurity_decrease\\', \\'old_value\\': None, \\'new_value\\': \\'0.0\\'}, {\\'key\\': \\'min_weight_fraction_leaf\\', \\'old_value\\': None, \\'new_value\\': \\'0.0\\'}, {\\'key\\': \\'n_jobs\\', \\'old_value\\': None, \\'new_value\\': \\'None\\'}, {\\'key\\': \\'oob_score\\', \\'old_value\\': None, \\'new_value\\': \\'False\\'}, {\\'key\\': \\'verbose\\', \\'old_value\\': None, \\'new_value\\': \\'0\\'}, {\\'key\\': \\'warm_start\\', \\'old_value\\': None, \\'new_value\\': \\'False\\'}]\\' for run ID=\\'a2597ec51767409196be5639a01af97b\\'.\")]')]\n",
      "\n"
     ]
    },
    {
     "name": "stdout",
     "output_type": "stream",
     "text": [
      "\r",
      " 16%|█████▍                            | 8/50 [01:42<09:17, 13.28s/trial, best loss: 6.651438559376775]"
     ]
    },
    {
     "name": "stderr",
     "output_type": "stream",
     "text": [
      "2022/05/27 23:41:41 WARNING mlflow.utils.autologging_utils: Encountered unexpected error during sklearn autologging: The following failures occurred while performing one or more logging operations: [MlflowException('Failed to perform one or more operations on the run with ID 11e256873d1245d6a5ce4921909e734f. Failed operations: [RestException(\"INVALID_PARAMETER_VALUE: Changing param values is not allowed. Params were already logged=\\'[{\\'key\\': \\'bootstrap\\', \\'old_value\\': None, \\'new_value\\': \\'True\\'}, {\\'key\\': \\'ccp_alpha\\', \\'old_value\\': None, \\'new_value\\': \\'0.0\\'}, {\\'key\\': \\'criterion\\', \\'old_value\\': None, \\'new_value\\': \\'squared_error\\'}, {\\'key\\': \\'max_features\\', \\'old_value\\': None, \\'new_value\\': \\'1.0\\'}, {\\'key\\': \\'max_leaf_nodes\\', \\'old_value\\': None, \\'new_value\\': \\'None\\'}, {\\'key\\': \\'max_samples\\', \\'old_value\\': None, \\'new_value\\': \\'None\\'}, {\\'key\\': \\'min_impurity_decrease\\', \\'old_value\\': None, \\'new_value\\': \\'0.0\\'}, {\\'key\\': \\'min_weight_fraction_leaf\\', \\'old_value\\': None, \\'new_value\\': \\'0.0\\'}, {\\'key\\': \\'n_jobs\\', \\'old_value\\': None, \\'new_value\\': \\'None\\'}, {\\'key\\': \\'oob_score\\', \\'old_value\\': None, \\'new_value\\': \\'False\\'}, {\\'key\\': \\'verbose\\', \\'old_value\\': None, \\'new_value\\': \\'0\\'}, {\\'key\\': \\'warm_start\\', \\'old_value\\': None, \\'new_value\\': \\'False\\'}]\\' for run ID=\\'11e256873d1245d6a5ce4921909e734f\\'.\")]')]\n",
      "\n"
     ]
    },
    {
     "name": "stdout",
     "output_type": "stream",
     "text": [
      "\r",
      " 18%|██████                            | 9/50 [01:57<09:33, 13.98s/trial, best loss: 6.651438559376775]"
     ]
    },
    {
     "name": "stderr",
     "output_type": "stream",
     "text": [
      "2022/05/27 23:41:54 WARNING mlflow.utils.autologging_utils: Encountered unexpected error during sklearn autologging: The following failures occurred while performing one or more logging operations: [MlflowException('Failed to perform one or more operations on the run with ID eae1694267734b8b94bc87b3ef2e4719. Failed operations: [RestException(\"INVALID_PARAMETER_VALUE: Changing param values is not allowed. Params were already logged=\\'[{\\'key\\': \\'bootstrap\\', \\'old_value\\': None, \\'new_value\\': \\'True\\'}, {\\'key\\': \\'ccp_alpha\\', \\'old_value\\': None, \\'new_value\\': \\'0.0\\'}, {\\'key\\': \\'criterion\\', \\'old_value\\': None, \\'new_value\\': \\'squared_error\\'}, {\\'key\\': \\'max_features\\', \\'old_value\\': None, \\'new_value\\': \\'1.0\\'}, {\\'key\\': \\'max_leaf_nodes\\', \\'old_value\\': None, \\'new_value\\': \\'None\\'}, {\\'key\\': \\'max_samples\\', \\'old_value\\': None, \\'new_value\\': \\'None\\'}, {\\'key\\': \\'min_impurity_decrease\\', \\'old_value\\': None, \\'new_value\\': \\'0.0\\'}, {\\'key\\': \\'min_weight_fraction_leaf\\', \\'old_value\\': None, \\'new_value\\': \\'0.0\\'}, {\\'key\\': \\'n_jobs\\', \\'old_value\\': None, \\'new_value\\': \\'None\\'}, {\\'key\\': \\'oob_score\\', \\'old_value\\': None, \\'new_value\\': \\'False\\'}, {\\'key\\': \\'verbose\\', \\'old_value\\': None, \\'new_value\\': \\'0\\'}, {\\'key\\': \\'warm_start\\', \\'old_value\\': None, \\'new_value\\': \\'False\\'}]\\' for run ID=\\'eae1694267734b8b94bc87b3ef2e4719\\'.\")]')]\n",
      "\n"
     ]
    },
    {
     "name": "stdout",
     "output_type": "stream",
     "text": [
      "\r",
      " 20%|██████▌                          | 10/50 [02:11<09:16, 13.90s/trial, best loss: 6.651438559376775]"
     ]
    },
    {
     "name": "stderr",
     "output_type": "stream",
     "text": [
      "2022/05/27 23:42:06 WARNING mlflow.utils.autologging_utils: Encountered unexpected error during sklearn autologging: The following failures occurred while performing one or more logging operations: [MlflowException('Failed to perform one or more operations on the run with ID fd00b2cd2633467081a160dd2d337fcb. Failed operations: [RestException(\"INVALID_PARAMETER_VALUE: Changing param values is not allowed. Params were already logged=\\'[{\\'key\\': \\'bootstrap\\', \\'old_value\\': None, \\'new_value\\': \\'True\\'}, {\\'key\\': \\'ccp_alpha\\', \\'old_value\\': None, \\'new_value\\': \\'0.0\\'}, {\\'key\\': \\'criterion\\', \\'old_value\\': None, \\'new_value\\': \\'squared_error\\'}, {\\'key\\': \\'max_features\\', \\'old_value\\': None, \\'new_value\\': \\'1.0\\'}, {\\'key\\': \\'max_leaf_nodes\\', \\'old_value\\': None, \\'new_value\\': \\'None\\'}, {\\'key\\': \\'max_samples\\', \\'old_value\\': None, \\'new_value\\': \\'None\\'}, {\\'key\\': \\'min_impurity_decrease\\', \\'old_value\\': None, \\'new_value\\': \\'0.0\\'}, {\\'key\\': \\'min_weight_fraction_leaf\\', \\'old_value\\': None, \\'new_value\\': \\'0.0\\'}, {\\'key\\': \\'n_jobs\\', \\'old_value\\': None, \\'new_value\\': \\'None\\'}, {\\'key\\': \\'oob_score\\', \\'old_value\\': None, \\'new_value\\': \\'False\\'}, {\\'key\\': \\'verbose\\', \\'old_value\\': None, \\'new_value\\': \\'0\\'}, {\\'key\\': \\'warm_start\\', \\'old_value\\': None, \\'new_value\\': \\'False\\'}]\\' for run ID=\\'fd00b2cd2633467081a160dd2d337fcb\\'.\")]')]\n",
      "\n"
     ]
    },
    {
     "name": "stdout",
     "output_type": "stream",
     "text": [
      "\r",
      " 22%|███████▎                         | 11/50 [02:23<08:35, 13.21s/trial, best loss: 6.642137287429206]"
     ]
    },
    {
     "name": "stderr",
     "output_type": "stream",
     "text": [
      "2022/05/27 23:42:16 WARNING mlflow.utils.autologging_utils: Encountered unexpected error during sklearn autologging: The following failures occurred while performing one or more logging operations: [MlflowException('Failed to perform one or more operations on the run with ID 668c687968f4472aaa480a8dd902725c. Failed operations: [RestException(\"INVALID_PARAMETER_VALUE: Changing param values is not allowed. Params were already logged=\\'[{\\'key\\': \\'bootstrap\\', \\'old_value\\': None, \\'new_value\\': \\'True\\'}, {\\'key\\': \\'ccp_alpha\\', \\'old_value\\': None, \\'new_value\\': \\'0.0\\'}, {\\'key\\': \\'criterion\\', \\'old_value\\': None, \\'new_value\\': \\'squared_error\\'}, {\\'key\\': \\'max_features\\', \\'old_value\\': None, \\'new_value\\': \\'1.0\\'}, {\\'key\\': \\'max_leaf_nodes\\', \\'old_value\\': None, \\'new_value\\': \\'None\\'}, {\\'key\\': \\'max_samples\\', \\'old_value\\': None, \\'new_value\\': \\'None\\'}, {\\'key\\': \\'min_impurity_decrease\\', \\'old_value\\': None, \\'new_value\\': \\'0.0\\'}, {\\'key\\': \\'min_weight_fraction_leaf\\', \\'old_value\\': None, \\'new_value\\': \\'0.0\\'}, {\\'key\\': \\'n_jobs\\', \\'old_value\\': None, \\'new_value\\': \\'None\\'}, {\\'key\\': \\'oob_score\\', \\'old_value\\': None, \\'new_value\\': \\'False\\'}, {\\'key\\': \\'verbose\\', \\'old_value\\': None, \\'new_value\\': \\'0\\'}, {\\'key\\': \\'warm_start\\', \\'old_value\\': None, \\'new_value\\': \\'False\\'}]\\' for run ID=\\'668c687968f4472aaa480a8dd902725c\\'.\")]')]\n",
      "\n"
     ]
    },
    {
     "name": "stdout",
     "output_type": "stream",
     "text": [
      "\r",
      " 24%|███████▉                         | 12/50 [02:32<07:38, 12.06s/trial, best loss: 6.642137287429206]"
     ]
    },
    {
     "name": "stderr",
     "output_type": "stream",
     "text": [
      "2022/05/27 23:42:21 WARNING mlflow.utils.autologging_utils: Encountered unexpected error during sklearn autologging: The following failures occurred while performing one or more logging operations: [MlflowException('Failed to perform one or more operations on the run with ID f20340c829cb498d8359e797a6431337. Failed operations: [RestException(\"INVALID_PARAMETER_VALUE: Changing param values is not allowed. Params were already logged=\\'[{\\'key\\': \\'bootstrap\\', \\'old_value\\': None, \\'new_value\\': \\'True\\'}, {\\'key\\': \\'ccp_alpha\\', \\'old_value\\': None, \\'new_value\\': \\'0.0\\'}, {\\'key\\': \\'criterion\\', \\'old_value\\': None, \\'new_value\\': \\'squared_error\\'}, {\\'key\\': \\'max_features\\', \\'old_value\\': None, \\'new_value\\': \\'1.0\\'}, {\\'key\\': \\'max_leaf_nodes\\', \\'old_value\\': None, \\'new_value\\': \\'None\\'}, {\\'key\\': \\'max_samples\\', \\'old_value\\': None, \\'new_value\\': \\'None\\'}, {\\'key\\': \\'min_impurity_decrease\\', \\'old_value\\': None, \\'new_value\\': \\'0.0\\'}, {\\'key\\': \\'min_weight_fraction_leaf\\', \\'old_value\\': None, \\'new_value\\': \\'0.0\\'}, {\\'key\\': \\'n_jobs\\', \\'old_value\\': None, \\'new_value\\': \\'None\\'}, {\\'key\\': \\'oob_score\\', \\'old_value\\': None, \\'new_value\\': \\'False\\'}, {\\'key\\': \\'verbose\\', \\'old_value\\': None, \\'new_value\\': \\'0\\'}, {\\'key\\': \\'warm_start\\', \\'old_value\\': None, \\'new_value\\': \\'False\\'}]\\' for run ID=\\'f20340c829cb498d8359e797a6431337\\'.\")]')]\n",
      "\n"
     ]
    },
    {
     "name": "stdout",
     "output_type": "stream",
     "text": [
      "\r",
      " 26%|████████▌                        | 13/50 [02:37<06:07,  9.94s/trial, best loss: 6.642137287429206]"
     ]
    },
    {
     "name": "stderr",
     "output_type": "stream",
     "text": [
      "2022/05/27 23:42:32 WARNING mlflow.utils.autologging_utils: Encountered unexpected error during sklearn autologging: The following failures occurred while performing one or more logging operations: [MlflowException('Failed to perform one or more operations on the run with ID d01f3de4ee194c8286b1628a6bcf6120. Failed operations: [RestException(\"INVALID_PARAMETER_VALUE: Changing param values is not allowed. Params were already logged=\\'[{\\'key\\': \\'bootstrap\\', \\'old_value\\': None, \\'new_value\\': \\'True\\'}, {\\'key\\': \\'ccp_alpha\\', \\'old_value\\': None, \\'new_value\\': \\'0.0\\'}, {\\'key\\': \\'criterion\\', \\'old_value\\': None, \\'new_value\\': \\'squared_error\\'}, {\\'key\\': \\'max_features\\', \\'old_value\\': None, \\'new_value\\': \\'1.0\\'}, {\\'key\\': \\'max_leaf_nodes\\', \\'old_value\\': None, \\'new_value\\': \\'None\\'}, {\\'key\\': \\'max_samples\\', \\'old_value\\': None, \\'new_value\\': \\'None\\'}, {\\'key\\': \\'min_impurity_decrease\\', \\'old_value\\': None, \\'new_value\\': \\'0.0\\'}, {\\'key\\': \\'min_weight_fraction_leaf\\', \\'old_value\\': None, \\'new_value\\': \\'0.0\\'}, {\\'key\\': \\'n_jobs\\', \\'old_value\\': None, \\'new_value\\': \\'None\\'}, {\\'key\\': \\'oob_score\\', \\'old_value\\': None, \\'new_value\\': \\'False\\'}, {\\'key\\': \\'verbose\\', \\'old_value\\': None, \\'new_value\\': \\'0\\'}, {\\'key\\': \\'warm_start\\', \\'old_value\\': None, \\'new_value\\': \\'False\\'}]\\' for run ID=\\'d01f3de4ee194c8286b1628a6bcf6120\\'.\")]')]\n",
      "\n"
     ]
    },
    {
     "name": "stdout",
     "output_type": "stream",
     "text": [
      "\r",
      " 28%|█████████▏                       | 14/50 [02:48<06:12, 10.35s/trial, best loss: 6.642137287429206]"
     ]
    },
    {
     "name": "stderr",
     "output_type": "stream",
     "text": [
      "2022/05/27 23:42:46 WARNING mlflow.utils.autologging_utils: Encountered unexpected error during sklearn autologging: The following failures occurred while performing one or more logging operations: [MlflowException('Failed to perform one or more operations on the run with ID eab53385e717484e8b279fc1b9820f55. Failed operations: [RestException(\"INVALID_PARAMETER_VALUE: Changing param values is not allowed. Params were already logged=\\'[{\\'key\\': \\'bootstrap\\', \\'old_value\\': None, \\'new_value\\': \\'True\\'}, {\\'key\\': \\'ccp_alpha\\', \\'old_value\\': None, \\'new_value\\': \\'0.0\\'}, {\\'key\\': \\'criterion\\', \\'old_value\\': None, \\'new_value\\': \\'squared_error\\'}, {\\'key\\': \\'max_features\\', \\'old_value\\': None, \\'new_value\\': \\'1.0\\'}, {\\'key\\': \\'max_leaf_nodes\\', \\'old_value\\': None, \\'new_value\\': \\'None\\'}, {\\'key\\': \\'max_samples\\', \\'old_value\\': None, \\'new_value\\': \\'None\\'}, {\\'key\\': \\'min_impurity_decrease\\', \\'old_value\\': None, \\'new_value\\': \\'0.0\\'}, {\\'key\\': \\'min_weight_fraction_leaf\\', \\'old_value\\': None, \\'new_value\\': \\'0.0\\'}, {\\'key\\': \\'n_jobs\\', \\'old_value\\': None, \\'new_value\\': \\'None\\'}, {\\'key\\': \\'oob_score\\', \\'old_value\\': None, \\'new_value\\': \\'False\\'}, {\\'key\\': \\'verbose\\', \\'old_value\\': None, \\'new_value\\': \\'0\\'}, {\\'key\\': \\'warm_start\\', \\'old_value\\': None, \\'new_value\\': \\'False\\'}]\\' for run ID=\\'eab53385e717484e8b279fc1b9820f55\\'.\")]')]\n",
      "\n"
     ]
    },
    {
     "name": "stdout",
     "output_type": "stream",
     "text": [
      "\r",
      " 30%|█████████▉                       | 15/50 [03:03<06:44, 11.56s/trial, best loss: 6.642137287429206]"
     ]
    },
    {
     "name": "stderr",
     "output_type": "stream",
     "text": [
      "2022/05/27 23:42:56 WARNING mlflow.utils.autologging_utils: Encountered unexpected error during sklearn autologging: The following failures occurred while performing one or more logging operations: [MlflowException('Failed to perform one or more operations on the run with ID 5a36ff07a642445e9b24e5c728816bb1. Failed operations: [RestException(\"INVALID_PARAMETER_VALUE: Changing param values is not allowed. Params were already logged=\\'[{\\'key\\': \\'bootstrap\\', \\'old_value\\': None, \\'new_value\\': \\'True\\'}, {\\'key\\': \\'ccp_alpha\\', \\'old_value\\': None, \\'new_value\\': \\'0.0\\'}, {\\'key\\': \\'criterion\\', \\'old_value\\': None, \\'new_value\\': \\'squared_error\\'}, {\\'key\\': \\'max_features\\', \\'old_value\\': None, \\'new_value\\': \\'1.0\\'}, {\\'key\\': \\'max_leaf_nodes\\', \\'old_value\\': None, \\'new_value\\': \\'None\\'}, {\\'key\\': \\'max_samples\\', \\'old_value\\': None, \\'new_value\\': \\'None\\'}, {\\'key\\': \\'min_impurity_decrease\\', \\'old_value\\': None, \\'new_value\\': \\'0.0\\'}, {\\'key\\': \\'min_weight_fraction_leaf\\', \\'old_value\\': None, \\'new_value\\': \\'0.0\\'}, {\\'key\\': \\'n_jobs\\', \\'old_value\\': None, \\'new_value\\': \\'None\\'}, {\\'key\\': \\'oob_score\\', \\'old_value\\': None, \\'new_value\\': \\'False\\'}, {\\'key\\': \\'verbose\\', \\'old_value\\': None, \\'new_value\\': \\'0\\'}, {\\'key\\': \\'warm_start\\', \\'old_value\\': None, \\'new_value\\': \\'False\\'}]\\' for run ID=\\'5a36ff07a642445e9b24e5c728816bb1\\'.\")]')]\n",
      "\n"
     ]
    },
    {
     "name": "stdout",
     "output_type": "stream",
     "text": [
      "\r",
      " 32%|██████████▌                      | 16/50 [03:13<06:15, 11.06s/trial, best loss: 6.642137287429206]"
     ]
    },
    {
     "name": "stderr",
     "output_type": "stream",
     "text": [
      "2022/05/27 23:43:11 WARNING mlflow.utils.autologging_utils: Encountered unexpected error during sklearn autologging: The following failures occurred while performing one or more logging operations: [MlflowException('Failed to perform one or more operations on the run with ID c0f312d370e04565b16f929ace7d23b6. Failed operations: [RestException(\"INVALID_PARAMETER_VALUE: Changing param values is not allowed. Params were already logged=\\'[{\\'key\\': \\'bootstrap\\', \\'old_value\\': None, \\'new_value\\': \\'True\\'}, {\\'key\\': \\'ccp_alpha\\', \\'old_value\\': None, \\'new_value\\': \\'0.0\\'}, {\\'key\\': \\'criterion\\', \\'old_value\\': None, \\'new_value\\': \\'squared_error\\'}, {\\'key\\': \\'max_features\\', \\'old_value\\': None, \\'new_value\\': \\'1.0\\'}, {\\'key\\': \\'max_leaf_nodes\\', \\'old_value\\': None, \\'new_value\\': \\'None\\'}, {\\'key\\': \\'max_samples\\', \\'old_value\\': None, \\'new_value\\': \\'None\\'}, {\\'key\\': \\'min_impurity_decrease\\', \\'old_value\\': None, \\'new_value\\': \\'0.0\\'}, {\\'key\\': \\'min_weight_fraction_leaf\\', \\'old_value\\': None, \\'new_value\\': \\'0.0\\'}, {\\'key\\': \\'n_jobs\\', \\'old_value\\': None, \\'new_value\\': \\'None\\'}, {\\'key\\': \\'oob_score\\', \\'old_value\\': None, \\'new_value\\': \\'False\\'}, {\\'key\\': \\'verbose\\', \\'old_value\\': None, \\'new_value\\': \\'0\\'}, {\\'key\\': \\'warm_start\\', \\'old_value\\': None, \\'new_value\\': \\'False\\'}]\\' for run ID=\\'c0f312d370e04565b16f929ace7d23b6\\'.\")]')]\n",
      "\n"
     ]
    },
    {
     "name": "stdout",
     "output_type": "stream",
     "text": [
      "\r",
      " 34%|███████████▏                     | 17/50 [03:28<06:42, 12.20s/trial, best loss: 6.642137287429206]"
     ]
    },
    {
     "name": "stderr",
     "output_type": "stream",
     "text": [
      "2022/05/27 23:43:32 WARNING mlflow.utils.autologging_utils: Encountered unexpected error during sklearn autologging: The following failures occurred while performing one or more logging operations: [MlflowException('Failed to perform one or more operations on the run with ID da445bd644a44f4ba067135b031856b4. Failed operations: [RestException(\"INVALID_PARAMETER_VALUE: Changing param values is not allowed. Params were already logged=\\'[{\\'key\\': \\'bootstrap\\', \\'old_value\\': None, \\'new_value\\': \\'True\\'}, {\\'key\\': \\'ccp_alpha\\', \\'old_value\\': None, \\'new_value\\': \\'0.0\\'}, {\\'key\\': \\'criterion\\', \\'old_value\\': None, \\'new_value\\': \\'squared_error\\'}, {\\'key\\': \\'max_features\\', \\'old_value\\': None, \\'new_value\\': \\'1.0\\'}, {\\'key\\': \\'max_leaf_nodes\\', \\'old_value\\': None, \\'new_value\\': \\'None\\'}, {\\'key\\': \\'max_samples\\', \\'old_value\\': None, \\'new_value\\': \\'None\\'}, {\\'key\\': \\'min_impurity_decrease\\', \\'old_value\\': None, \\'new_value\\': \\'0.0\\'}, {\\'key\\': \\'min_weight_fraction_leaf\\', \\'old_value\\': None, \\'new_value\\': \\'0.0\\'}, {\\'key\\': \\'n_jobs\\', \\'old_value\\': None, \\'new_value\\': \\'None\\'}, {\\'key\\': \\'oob_score\\', \\'old_value\\': None, \\'new_value\\': \\'False\\'}, {\\'key\\': \\'verbose\\', \\'old_value\\': None, \\'new_value\\': \\'0\\'}, {\\'key\\': \\'warm_start\\', \\'old_value\\': None, \\'new_value\\': \\'False\\'}]\\' for run ID=\\'da445bd644a44f4ba067135b031856b4\\'.\")]')]\n",
      "\n"
     ]
    },
    {
     "name": "stdout",
     "output_type": "stream",
     "text": [
      "\r",
      " 36%|███████████▉                     | 18/50 [03:48<07:54, 14.82s/trial, best loss: 6.629728007710133]"
     ]
    },
    {
     "name": "stderr",
     "output_type": "stream",
     "text": [
      "2022/05/27 23:43:40 WARNING mlflow.utils.autologging_utils: Encountered unexpected error during sklearn autologging: The following failures occurred while performing one or more logging operations: [MlflowException('Failed to perform one or more operations on the run with ID 207aadec1cab4c40af94cd94398f6ff1. Failed operations: [RestException(\"INVALID_PARAMETER_VALUE: Changing param values is not allowed. Params were already logged=\\'[{\\'key\\': \\'bootstrap\\', \\'old_value\\': None, \\'new_value\\': \\'True\\'}, {\\'key\\': \\'ccp_alpha\\', \\'old_value\\': None, \\'new_value\\': \\'0.0\\'}, {\\'key\\': \\'criterion\\', \\'old_value\\': None, \\'new_value\\': \\'squared_error\\'}, {\\'key\\': \\'max_features\\', \\'old_value\\': None, \\'new_value\\': \\'1.0\\'}, {\\'key\\': \\'max_leaf_nodes\\', \\'old_value\\': None, \\'new_value\\': \\'None\\'}, {\\'key\\': \\'max_samples\\', \\'old_value\\': None, \\'new_value\\': \\'None\\'}, {\\'key\\': \\'min_impurity_decrease\\', \\'old_value\\': None, \\'new_value\\': \\'0.0\\'}, {\\'key\\': \\'min_weight_fraction_leaf\\', \\'old_value\\': None, \\'new_value\\': \\'0.0\\'}, {\\'key\\': \\'n_jobs\\', \\'old_value\\': None, \\'new_value\\': \\'None\\'}, {\\'key\\': \\'oob_score\\', \\'old_value\\': None, \\'new_value\\': \\'False\\'}, {\\'key\\': \\'verbose\\', \\'old_value\\': None, \\'new_value\\': \\'0\\'}, {\\'key\\': \\'warm_start\\', \\'old_value\\': None, \\'new_value\\': \\'False\\'}]\\' for run ID=\\'207aadec1cab4c40af94cd94398f6ff1\\'.\")]')]\n",
      "\n"
     ]
    },
    {
     "name": "stdout",
     "output_type": "stream",
     "text": [
      "\r",
      " 38%|████████████▌                    | 19/50 [03:56<06:32, 12.66s/trial, best loss: 6.629728007710133]"
     ]
    },
    {
     "name": "stderr",
     "output_type": "stream",
     "text": [
      "2022/05/27 23:43:45 WARNING mlflow.utils.autologging_utils: Encountered unexpected error during sklearn autologging: The following failures occurred while performing one or more logging operations: [MlflowException('Failed to perform one or more operations on the run with ID b27b71a1e9504230b239680c63fdb3c3. Failed operations: [RestException(\"INVALID_PARAMETER_VALUE: Changing param values is not allowed. Params were already logged=\\'[{\\'key\\': \\'bootstrap\\', \\'old_value\\': None, \\'new_value\\': \\'True\\'}, {\\'key\\': \\'ccp_alpha\\', \\'old_value\\': None, \\'new_value\\': \\'0.0\\'}, {\\'key\\': \\'criterion\\', \\'old_value\\': None, \\'new_value\\': \\'squared_error\\'}, {\\'key\\': \\'max_features\\', \\'old_value\\': None, \\'new_value\\': \\'1.0\\'}, {\\'key\\': \\'max_leaf_nodes\\', \\'old_value\\': None, \\'new_value\\': \\'None\\'}, {\\'key\\': \\'max_samples\\', \\'old_value\\': None, \\'new_value\\': \\'None\\'}, {\\'key\\': \\'min_impurity_decrease\\', \\'old_value\\': None, \\'new_value\\': \\'0.0\\'}, {\\'key\\': \\'min_weight_fraction_leaf\\', \\'old_value\\': None, \\'new_value\\': \\'0.0\\'}, {\\'key\\': \\'n_jobs\\', \\'old_value\\': None, \\'new_value\\': \\'None\\'}, {\\'key\\': \\'oob_score\\', \\'old_value\\': None, \\'new_value\\': \\'False\\'}, {\\'key\\': \\'verbose\\', \\'old_value\\': None, \\'new_value\\': \\'0\\'}, {\\'key\\': \\'warm_start\\', \\'old_value\\': None, \\'new_value\\': \\'False\\'}]\\' for run ID=\\'b27b71a1e9504230b239680c63fdb3c3\\'.\")]')]\n",
      "\n"
     ]
    },
    {
     "name": "stdout",
     "output_type": "stream",
     "text": [
      "\r",
      " 40%|█████████████▏                   | 20/50 [04:02<05:17, 10.57s/trial, best loss: 6.629728007710133]"
     ]
    },
    {
     "name": "stderr",
     "output_type": "stream",
     "text": [
      "2022/05/27 23:44:13 WARNING mlflow.utils.autologging_utils: Encountered unexpected error during sklearn autologging: The following failures occurred while performing one or more logging operations: [MlflowException('Failed to perform one or more operations on the run with ID 12d2645f735e4f79874d96c6bd646a9a. Failed operations: [RestException(\"INVALID_PARAMETER_VALUE: Changing param values is not allowed. Params were already logged=\\'[{\\'key\\': \\'bootstrap\\', \\'old_value\\': None, \\'new_value\\': \\'True\\'}, {\\'key\\': \\'ccp_alpha\\', \\'old_value\\': None, \\'new_value\\': \\'0.0\\'}, {\\'key\\': \\'criterion\\', \\'old_value\\': None, \\'new_value\\': \\'squared_error\\'}, {\\'key\\': \\'max_features\\', \\'old_value\\': None, \\'new_value\\': \\'1.0\\'}, {\\'key\\': \\'max_leaf_nodes\\', \\'old_value\\': None, \\'new_value\\': \\'None\\'}, {\\'key\\': \\'max_samples\\', \\'old_value\\': None, \\'new_value\\': \\'None\\'}, {\\'key\\': \\'min_impurity_decrease\\', \\'old_value\\': None, \\'new_value\\': \\'0.0\\'}, {\\'key\\': \\'min_weight_fraction_leaf\\', \\'old_value\\': None, \\'new_value\\': \\'0.0\\'}, {\\'key\\': \\'n_jobs\\', \\'old_value\\': None, \\'new_value\\': \\'None\\'}, {\\'key\\': \\'oob_score\\', \\'old_value\\': None, \\'new_value\\': \\'False\\'}, {\\'key\\': \\'verbose\\', \\'old_value\\': None, \\'new_value\\': \\'0\\'}, {\\'key\\': \\'warm_start\\', \\'old_value\\': None, \\'new_value\\': \\'False\\'}]\\' for run ID=\\'12d2645f735e4f79874d96c6bd646a9a\\'.\")]')]\n",
      "\n"
     ]
    },
    {
     "name": "stdout",
     "output_type": "stream",
     "text": [
      "\r",
      " 42%|█████████████▊                   | 21/50 [04:30<07:39, 15.83s/trial, best loss: 6.629728007710133]"
     ]
    },
    {
     "name": "stderr",
     "output_type": "stream",
     "text": [
      "2022/05/27 23:44:35 WARNING mlflow.utils.autologging_utils: Encountered unexpected error during sklearn autologging: The following failures occurred while performing one or more logging operations: [MlflowException('Failed to perform one or more operations on the run with ID 66fe6674bee34c0caf99f55bcc618b57. Failed operations: [RestException(\"INVALID_PARAMETER_VALUE: Changing param values is not allowed. Params were already logged=\\'[{\\'key\\': \\'bootstrap\\', \\'old_value\\': None, \\'new_value\\': \\'True\\'}, {\\'key\\': \\'ccp_alpha\\', \\'old_value\\': None, \\'new_value\\': \\'0.0\\'}, {\\'key\\': \\'criterion\\', \\'old_value\\': None, \\'new_value\\': \\'squared_error\\'}, {\\'key\\': \\'max_features\\', \\'old_value\\': None, \\'new_value\\': \\'1.0\\'}, {\\'key\\': \\'max_leaf_nodes\\', \\'old_value\\': None, \\'new_value\\': \\'None\\'}, {\\'key\\': \\'max_samples\\', \\'old_value\\': None, \\'new_value\\': \\'None\\'}, {\\'key\\': \\'min_impurity_decrease\\', \\'old_value\\': None, \\'new_value\\': \\'0.0\\'}, {\\'key\\': \\'min_weight_fraction_leaf\\', \\'old_value\\': None, \\'new_value\\': \\'0.0\\'}, {\\'key\\': \\'n_jobs\\', \\'old_value\\': None, \\'new_value\\': \\'None\\'}, {\\'key\\': \\'oob_score\\', \\'old_value\\': None, \\'new_value\\': \\'False\\'}, {\\'key\\': \\'verbose\\', \\'old_value\\': None, \\'new_value\\': \\'0\\'}, {\\'key\\': \\'warm_start\\', \\'old_value\\': None, \\'new_value\\': \\'False\\'}]\\' for run ID=\\'66fe6674bee34c0caf99f55bcc618b57\\'.\")]')]\n",
      "\n"
     ]
    },
    {
     "name": "stdout",
     "output_type": "stream",
     "text": [
      "\r",
      " 44%|██████████████▌                  | 22/50 [04:52<08:13, 17.63s/trial, best loss: 6.629728007710133]"
     ]
    },
    {
     "name": "stderr",
     "output_type": "stream",
     "text": [
      "2022/05/27 23:45:07 WARNING mlflow.utils.autologging_utils: Encountered unexpected error during sklearn autologging: The following failures occurred while performing one or more logging operations: [MlflowException('Failed to perform one or more operations on the run with ID 4ab8a453bfe74cb9a105252751de140a. Failed operations: [RestException(\"INVALID_PARAMETER_VALUE: Changing param values is not allowed. Params were already logged=\\'[{\\'key\\': \\'bootstrap\\', \\'old_value\\': None, \\'new_value\\': \\'True\\'}, {\\'key\\': \\'ccp_alpha\\', \\'old_value\\': None, \\'new_value\\': \\'0.0\\'}, {\\'key\\': \\'criterion\\', \\'old_value\\': None, \\'new_value\\': \\'squared_error\\'}, {\\'key\\': \\'max_features\\', \\'old_value\\': None, \\'new_value\\': \\'1.0\\'}, {\\'key\\': \\'max_leaf_nodes\\', \\'old_value\\': None, \\'new_value\\': \\'None\\'}, {\\'key\\': \\'max_samples\\', \\'old_value\\': None, \\'new_value\\': \\'None\\'}, {\\'key\\': \\'min_impurity_decrease\\', \\'old_value\\': None, \\'new_value\\': \\'0.0\\'}, {\\'key\\': \\'min_weight_fraction_leaf\\', \\'old_value\\': None, \\'new_value\\': \\'0.0\\'}, {\\'key\\': \\'n_jobs\\', \\'old_value\\': None, \\'new_value\\': \\'None\\'}, {\\'key\\': \\'oob_score\\', \\'old_value\\': None, \\'new_value\\': \\'False\\'}, {\\'key\\': \\'verbose\\', \\'old_value\\': None, \\'new_value\\': \\'0\\'}, {\\'key\\': \\'warm_start\\', \\'old_value\\': None, \\'new_value\\': \\'False\\'}]\\' for run ID=\\'4ab8a453bfe74cb9a105252751de140a\\'.\")]')]\n",
      "\n"
     ]
    },
    {
     "name": "stdout",
     "output_type": "stream",
     "text": [
      "\r",
      " 46%|███████████████▏                 | 23/50 [05:24<09:53, 22.00s/trial, best loss: 6.629728007710133]"
     ]
    },
    {
     "name": "stderr",
     "output_type": "stream",
     "text": [
      "2022/05/27 23:45:35 WARNING mlflow.utils.autologging_utils: Encountered unexpected error during sklearn autologging: The following failures occurred while performing one or more logging operations: [MlflowException('Failed to perform one or more operations on the run with ID 13b3710870124633a3cefef6076f032f. Failed operations: [RestException(\"INVALID_PARAMETER_VALUE: Changing param values is not allowed. Params were already logged=\\'[{\\'key\\': \\'bootstrap\\', \\'old_value\\': None, \\'new_value\\': \\'True\\'}, {\\'key\\': \\'ccp_alpha\\', \\'old_value\\': None, \\'new_value\\': \\'0.0\\'}, {\\'key\\': \\'criterion\\', \\'old_value\\': None, \\'new_value\\': \\'squared_error\\'}, {\\'key\\': \\'max_features\\', \\'old_value\\': None, \\'new_value\\': \\'1.0\\'}, {\\'key\\': \\'max_leaf_nodes\\', \\'old_value\\': None, \\'new_value\\': \\'None\\'}, {\\'key\\': \\'max_samples\\', \\'old_value\\': None, \\'new_value\\': \\'None\\'}, {\\'key\\': \\'min_impurity_decrease\\', \\'old_value\\': None, \\'new_value\\': \\'0.0\\'}, {\\'key\\': \\'min_weight_fraction_leaf\\', \\'old_value\\': None, \\'new_value\\': \\'0.0\\'}, {\\'key\\': \\'n_jobs\\', \\'old_value\\': None, \\'new_value\\': \\'None\\'}, {\\'key\\': \\'oob_score\\', \\'old_value\\': None, \\'new_value\\': \\'False\\'}, {\\'key\\': \\'verbose\\', \\'old_value\\': None, \\'new_value\\': \\'0\\'}, {\\'key\\': \\'warm_start\\', \\'old_value\\': None, \\'new_value\\': \\'False\\'}]\\' for run ID=\\'13b3710870124633a3cefef6076f032f\\'.\")]')]\n",
      "\n"
     ]
    },
    {
     "name": "stdout",
     "output_type": "stream",
     "text": [
      "\r",
      " 48%|███████████████▊                 | 24/50 [05:52<10:19, 23.83s/trial, best loss: 6.629728007710133]"
     ]
    },
    {
     "name": "stderr",
     "output_type": "stream",
     "text": [
      "2022/05/27 23:45:57 WARNING mlflow.utils.autologging_utils: Encountered unexpected error during sklearn autologging: The following failures occurred while performing one or more logging operations: [MlflowException('Failed to perform one or more operations on the run with ID 4082a1ee85174fd4ad481c7661df123e. Failed operations: [RestException(\"INVALID_PARAMETER_VALUE: Changing param values is not allowed. Params were already logged=\\'[{\\'key\\': \\'bootstrap\\', \\'old_value\\': None, \\'new_value\\': \\'True\\'}, {\\'key\\': \\'ccp_alpha\\', \\'old_value\\': None, \\'new_value\\': \\'0.0\\'}, {\\'key\\': \\'criterion\\', \\'old_value\\': None, \\'new_value\\': \\'squared_error\\'}, {\\'key\\': \\'max_features\\', \\'old_value\\': None, \\'new_value\\': \\'1.0\\'}, {\\'key\\': \\'max_leaf_nodes\\', \\'old_value\\': None, \\'new_value\\': \\'None\\'}, {\\'key\\': \\'max_samples\\', \\'old_value\\': None, \\'new_value\\': \\'None\\'}, {\\'key\\': \\'min_impurity_decrease\\', \\'old_value\\': None, \\'new_value\\': \\'0.0\\'}, {\\'key\\': \\'min_weight_fraction_leaf\\', \\'old_value\\': None, \\'new_value\\': \\'0.0\\'}, {\\'key\\': \\'n_jobs\\', \\'old_value\\': None, \\'new_value\\': \\'None\\'}, {\\'key\\': \\'oob_score\\', \\'old_value\\': None, \\'new_value\\': \\'False\\'}, {\\'key\\': \\'verbose\\', \\'old_value\\': None, \\'new_value\\': \\'0\\'}, {\\'key\\': \\'warm_start\\', \\'old_value\\': None, \\'new_value\\': \\'False\\'}]\\' for run ID=\\'4082a1ee85174fd4ad481c7661df123e\\'.\")]')]\n",
      "\n"
     ]
    },
    {
     "name": "stdout",
     "output_type": "stream",
     "text": [
      "\r",
      " 50%|████████████████▌                | 25/50 [06:13<09:37, 23.09s/trial, best loss: 6.629728007710133]"
     ]
    },
    {
     "name": "stderr",
     "output_type": "stream",
     "text": [
      "2022/05/27 23:46:19 WARNING mlflow.utils.autologging_utils: Encountered unexpected error during sklearn autologging: The following failures occurred while performing one or more logging operations: [MlflowException('Failed to perform one or more operations on the run with ID 46b6f33d7b5e43578632d9d358fcbf18. Failed operations: [RestException(\"INVALID_PARAMETER_VALUE: Changing param values is not allowed. Params were already logged=\\'[{\\'key\\': \\'bootstrap\\', \\'old_value\\': None, \\'new_value\\': \\'True\\'}, {\\'key\\': \\'ccp_alpha\\', \\'old_value\\': None, \\'new_value\\': \\'0.0\\'}, {\\'key\\': \\'criterion\\', \\'old_value\\': None, \\'new_value\\': \\'squared_error\\'}, {\\'key\\': \\'max_features\\', \\'old_value\\': None, \\'new_value\\': \\'1.0\\'}, {\\'key\\': \\'max_leaf_nodes\\', \\'old_value\\': None, \\'new_value\\': \\'None\\'}, {\\'key\\': \\'max_samples\\', \\'old_value\\': None, \\'new_value\\': \\'None\\'}, {\\'key\\': \\'min_impurity_decrease\\', \\'old_value\\': None, \\'new_value\\': \\'0.0\\'}, {\\'key\\': \\'min_weight_fraction_leaf\\', \\'old_value\\': None, \\'new_value\\': \\'0.0\\'}, {\\'key\\': \\'n_jobs\\', \\'old_value\\': None, \\'new_value\\': \\'None\\'}, {\\'key\\': \\'oob_score\\', \\'old_value\\': None, \\'new_value\\': \\'False\\'}, {\\'key\\': \\'verbose\\', \\'old_value\\': None, \\'new_value\\': \\'0\\'}, {\\'key\\': \\'warm_start\\', \\'old_value\\': None, \\'new_value\\': \\'False\\'}]\\' for run ID=\\'46b6f33d7b5e43578632d9d358fcbf18\\'.\")]')]\n",
      "\n"
     ]
    },
    {
     "name": "stdout",
     "output_type": "stream",
     "text": [
      "\r",
      " 52%|█████████████████▏               | 26/50 [06:36<09:11, 22.97s/trial, best loss: 6.629728007710133]"
     ]
    },
    {
     "name": "stderr",
     "output_type": "stream",
     "text": [
      "2022/05/27 23:46:33 WARNING mlflow.utils.autologging_utils: Encountered unexpected error during sklearn autologging: The following failures occurred while performing one or more logging operations: [MlflowException('Failed to perform one or more operations on the run with ID 15cb3f49e16245a8a12c2f611ce93a13. Failed operations: [RestException(\"INVALID_PARAMETER_VALUE: Changing param values is not allowed. Params were already logged=\\'[{\\'key\\': \\'bootstrap\\', \\'old_value\\': None, \\'new_value\\': \\'True\\'}, {\\'key\\': \\'ccp_alpha\\', \\'old_value\\': None, \\'new_value\\': \\'0.0\\'}, {\\'key\\': \\'criterion\\', \\'old_value\\': None, \\'new_value\\': \\'squared_error\\'}, {\\'key\\': \\'max_features\\', \\'old_value\\': None, \\'new_value\\': \\'1.0\\'}, {\\'key\\': \\'max_leaf_nodes\\', \\'old_value\\': None, \\'new_value\\': \\'None\\'}, {\\'key\\': \\'max_samples\\', \\'old_value\\': None, \\'new_value\\': \\'None\\'}, {\\'key\\': \\'min_impurity_decrease\\', \\'old_value\\': None, \\'new_value\\': \\'0.0\\'}, {\\'key\\': \\'min_weight_fraction_leaf\\', \\'old_value\\': None, \\'new_value\\': \\'0.0\\'}, {\\'key\\': \\'n_jobs\\', \\'old_value\\': None, \\'new_value\\': \\'None\\'}, {\\'key\\': \\'oob_score\\', \\'old_value\\': None, \\'new_value\\': \\'False\\'}, {\\'key\\': \\'verbose\\', \\'old_value\\': None, \\'new_value\\': \\'0\\'}, {\\'key\\': \\'warm_start\\', \\'old_value\\': None, \\'new_value\\': \\'False\\'}]\\' for run ID=\\'15cb3f49e16245a8a12c2f611ce93a13\\'.\")]')]\n",
      "\n"
     ]
    },
    {
     "name": "stdout",
     "output_type": "stream",
     "text": [
      "\r",
      " 54%|█████████████████▊               | 27/50 [06:49<07:41, 20.05s/trial, best loss: 6.629728007710133]"
     ]
    },
    {
     "name": "stderr",
     "output_type": "stream",
     "text": [
      "2022/05/27 23:46:57 WARNING mlflow.utils.autologging_utils: Encountered unexpected error during sklearn autologging: The following failures occurred while performing one or more logging operations: [MlflowException('Failed to perform one or more operations on the run with ID bea88a6391084b53a5b17e6e85c74729. Failed operations: [RestException(\"INVALID_PARAMETER_VALUE: Changing param values is not allowed. Params were already logged=\\'[{\\'key\\': \\'bootstrap\\', \\'old_value\\': None, \\'new_value\\': \\'True\\'}, {\\'key\\': \\'ccp_alpha\\', \\'old_value\\': None, \\'new_value\\': \\'0.0\\'}, {\\'key\\': \\'criterion\\', \\'old_value\\': None, \\'new_value\\': \\'squared_error\\'}, {\\'key\\': \\'max_features\\', \\'old_value\\': None, \\'new_value\\': \\'1.0\\'}, {\\'key\\': \\'max_leaf_nodes\\', \\'old_value\\': None, \\'new_value\\': \\'None\\'}, {\\'key\\': \\'max_samples\\', \\'old_value\\': None, \\'new_value\\': \\'None\\'}, {\\'key\\': \\'min_impurity_decrease\\', \\'old_value\\': None, \\'new_value\\': \\'0.0\\'}, {\\'key\\': \\'min_weight_fraction_leaf\\', \\'old_value\\': None, \\'new_value\\': \\'0.0\\'}, {\\'key\\': \\'n_jobs\\', \\'old_value\\': None, \\'new_value\\': \\'None\\'}, {\\'key\\': \\'oob_score\\', \\'old_value\\': None, \\'new_value\\': \\'False\\'}, {\\'key\\': \\'verbose\\', \\'old_value\\': None, \\'new_value\\': \\'0\\'}, {\\'key\\': \\'warm_start\\', \\'old_value\\': None, \\'new_value\\': \\'False\\'}]\\' for run ID=\\'bea88a6391084b53a5b17e6e85c74729\\'.\")]')]\n",
      "\n"
     ]
    },
    {
     "name": "stdout",
     "output_type": "stream",
     "text": [
      "\r",
      " 56%|██████████████████▍              | 28/50 [07:14<07:50, 21.41s/trial, best loss: 6.629728007710133]"
     ]
    },
    {
     "name": "stderr",
     "output_type": "stream",
     "text": [
      "2022/05/27 23:47:08 WARNING mlflow.utils.autologging_utils: Encountered unexpected error during sklearn autologging: The following failures occurred while performing one or more logging operations: [MlflowException('Failed to perform one or more operations on the run with ID 1b5959e0101242ada060bdfb68fa6785. Failed operations: [RestException(\"INVALID_PARAMETER_VALUE: Changing param values is not allowed. Params were already logged=\\'[{\\'key\\': \\'bootstrap\\', \\'old_value\\': None, \\'new_value\\': \\'True\\'}, {\\'key\\': \\'ccp_alpha\\', \\'old_value\\': None, \\'new_value\\': \\'0.0\\'}, {\\'key\\': \\'criterion\\', \\'old_value\\': None, \\'new_value\\': \\'squared_error\\'}, {\\'key\\': \\'max_features\\', \\'old_value\\': None, \\'new_value\\': \\'1.0\\'}, {\\'key\\': \\'max_leaf_nodes\\', \\'old_value\\': None, \\'new_value\\': \\'None\\'}, {\\'key\\': \\'max_samples\\', \\'old_value\\': None, \\'new_value\\': \\'None\\'}, {\\'key\\': \\'min_impurity_decrease\\', \\'old_value\\': None, \\'new_value\\': \\'0.0\\'}, {\\'key\\': \\'min_weight_fraction_leaf\\', \\'old_value\\': None, \\'new_value\\': \\'0.0\\'}, {\\'key\\': \\'n_jobs\\', \\'old_value\\': None, \\'new_value\\': \\'None\\'}, {\\'key\\': \\'oob_score\\', \\'old_value\\': None, \\'new_value\\': \\'False\\'}, {\\'key\\': \\'verbose\\', \\'old_value\\': None, \\'new_value\\': \\'0\\'}, {\\'key\\': \\'warm_start\\', \\'old_value\\': None, \\'new_value\\': \\'False\\'}]\\' for run ID=\\'1b5959e0101242ada060bdfb68fa6785\\'.\")]')]\n",
      "\n"
     ]
    },
    {
     "name": "stdout",
     "output_type": "stream",
     "text": [
      "\r",
      " 58%|███████████████████▏             | 29/50 [07:24<06:19, 18.09s/trial, best loss: 6.629728007710133]"
     ]
    },
    {
     "name": "stderr",
     "output_type": "stream",
     "text": [
      "2022/05/27 23:47:31 WARNING mlflow.utils.autologging_utils: Encountered unexpected error during sklearn autologging: The following failures occurred while performing one or more logging operations: [MlflowException('Failed to perform one or more operations on the run with ID 9f5b5ca4e44942b985abd6564abf5723. Failed operations: [RestException(\"INVALID_PARAMETER_VALUE: Changing param values is not allowed. Params were already logged=\\'[{\\'key\\': \\'bootstrap\\', \\'old_value\\': None, \\'new_value\\': \\'True\\'}, {\\'key\\': \\'ccp_alpha\\', \\'old_value\\': None, \\'new_value\\': \\'0.0\\'}, {\\'key\\': \\'criterion\\', \\'old_value\\': None, \\'new_value\\': \\'squared_error\\'}, {\\'key\\': \\'max_features\\', \\'old_value\\': None, \\'new_value\\': \\'1.0\\'}, {\\'key\\': \\'max_leaf_nodes\\', \\'old_value\\': None, \\'new_value\\': \\'None\\'}, {\\'key\\': \\'max_samples\\', \\'old_value\\': None, \\'new_value\\': \\'None\\'}, {\\'key\\': \\'min_impurity_decrease\\', \\'old_value\\': None, \\'new_value\\': \\'0.0\\'}, {\\'key\\': \\'min_weight_fraction_leaf\\', \\'old_value\\': None, \\'new_value\\': \\'0.0\\'}, {\\'key\\': \\'n_jobs\\', \\'old_value\\': None, \\'new_value\\': \\'None\\'}, {\\'key\\': \\'oob_score\\', \\'old_value\\': None, \\'new_value\\': \\'False\\'}, {\\'key\\': \\'verbose\\', \\'old_value\\': None, \\'new_value\\': \\'0\\'}, {\\'key\\': \\'warm_start\\', \\'old_value\\': None, \\'new_value\\': \\'False\\'}]\\' for run ID=\\'9f5b5ca4e44942b985abd6564abf5723\\'.\")]')]\n",
      "\n"
     ]
    },
    {
     "name": "stdout",
     "output_type": "stream",
     "text": [
      "\r",
      " 60%|███████████████████▊             | 30/50 [07:48<06:36, 19.82s/trial, best loss: 6.629728007710133]"
     ]
    },
    {
     "name": "stderr",
     "output_type": "stream",
     "text": [
      "2022/05/27 23:47:36 WARNING mlflow.utils.autologging_utils: Encountered unexpected error during sklearn autologging: The following failures occurred while performing one or more logging operations: [MlflowException('Failed to perform one or more operations on the run with ID 52b64a45f2b348e6ac04a0bb8e3d5eee. Failed operations: [RestException(\"INVALID_PARAMETER_VALUE: Changing param values is not allowed. Params were already logged=\\'[{\\'key\\': \\'bootstrap\\', \\'old_value\\': None, \\'new_value\\': \\'True\\'}, {\\'key\\': \\'ccp_alpha\\', \\'old_value\\': None, \\'new_value\\': \\'0.0\\'}, {\\'key\\': \\'criterion\\', \\'old_value\\': None, \\'new_value\\': \\'squared_error\\'}, {\\'key\\': \\'max_features\\', \\'old_value\\': None, \\'new_value\\': \\'1.0\\'}, {\\'key\\': \\'max_leaf_nodes\\', \\'old_value\\': None, \\'new_value\\': \\'None\\'}, {\\'key\\': \\'max_samples\\', \\'old_value\\': None, \\'new_value\\': \\'None\\'}, {\\'key\\': \\'min_impurity_decrease\\', \\'old_value\\': None, \\'new_value\\': \\'0.0\\'}, {\\'key\\': \\'min_weight_fraction_leaf\\', \\'old_value\\': None, \\'new_value\\': \\'0.0\\'}, {\\'key\\': \\'n_jobs\\', \\'old_value\\': None, \\'new_value\\': \\'None\\'}, {\\'key\\': \\'oob_score\\', \\'old_value\\': None, \\'new_value\\': \\'False\\'}, {\\'key\\': \\'verbose\\', \\'old_value\\': None, \\'new_value\\': \\'0\\'}, {\\'key\\': \\'warm_start\\', \\'old_value\\': None, \\'new_value\\': \\'False\\'}]\\' for run ID=\\'52b64a45f2b348e6ac04a0bb8e3d5eee\\'.\")]')]\n",
      "\n"
     ]
    },
    {
     "name": "stdout",
     "output_type": "stream",
     "text": [
      "\r",
      " 62%|████████████████████▍            | 31/50 [07:52<04:46, 15.08s/trial, best loss: 6.629728007710133]"
     ]
    },
    {
     "name": "stderr",
     "output_type": "stream",
     "text": [
      "2022/05/27 23:47:52 WARNING mlflow.utils.autologging_utils: Encountered unexpected error during sklearn autologging: The following failures occurred while performing one or more logging operations: [MlflowException('Failed to perform one or more operations on the run with ID fd17e29f0d4843b3852e5a172e874899. Failed operations: [RestException(\"INVALID_PARAMETER_VALUE: Changing param values is not allowed. Params were already logged=\\'[{\\'key\\': \\'bootstrap\\', \\'old_value\\': None, \\'new_value\\': \\'True\\'}, {\\'key\\': \\'ccp_alpha\\', \\'old_value\\': None, \\'new_value\\': \\'0.0\\'}, {\\'key\\': \\'criterion\\', \\'old_value\\': None, \\'new_value\\': \\'squared_error\\'}, {\\'key\\': \\'max_features\\', \\'old_value\\': None, \\'new_value\\': \\'1.0\\'}, {\\'key\\': \\'max_leaf_nodes\\', \\'old_value\\': None, \\'new_value\\': \\'None\\'}, {\\'key\\': \\'max_samples\\', \\'old_value\\': None, \\'new_value\\': \\'None\\'}, {\\'key\\': \\'min_impurity_decrease\\', \\'old_value\\': None, \\'new_value\\': \\'0.0\\'}, {\\'key\\': \\'min_weight_fraction_leaf\\', \\'old_value\\': None, \\'new_value\\': \\'0.0\\'}, {\\'key\\': \\'n_jobs\\', \\'old_value\\': None, \\'new_value\\': \\'None\\'}, {\\'key\\': \\'oob_score\\', \\'old_value\\': None, \\'new_value\\': \\'False\\'}, {\\'key\\': \\'verbose\\', \\'old_value\\': None, \\'new_value\\': \\'0\\'}, {\\'key\\': \\'warm_start\\', \\'old_value\\': None, \\'new_value\\': \\'False\\'}]\\' for run ID=\\'fd17e29f0d4843b3852e5a172e874899\\'.\")]')]\n",
      "\n"
     ]
    },
    {
     "name": "stdout",
     "output_type": "stream",
     "text": [
      "\r",
      " 64%|█████████████████████            | 32/50 [08:09<04:38, 15.50s/trial, best loss: 6.629728007710133]"
     ]
    },
    {
     "name": "stderr",
     "output_type": "stream",
     "text": [
      "2022/05/27 23:48:17 WARNING mlflow.utils.autologging_utils: Encountered unexpected error during sklearn autologging: The following failures occurred while performing one or more logging operations: [MlflowException('Failed to perform one or more operations on the run with ID 27798974bbbb41f1867830d0518b257e. Failed operations: [RestException(\"INVALID_PARAMETER_VALUE: Changing param values is not allowed. Params were already logged=\\'[{\\'key\\': \\'bootstrap\\', \\'old_value\\': None, \\'new_value\\': \\'True\\'}, {\\'key\\': \\'ccp_alpha\\', \\'old_value\\': None, \\'new_value\\': \\'0.0\\'}, {\\'key\\': \\'criterion\\', \\'old_value\\': None, \\'new_value\\': \\'squared_error\\'}, {\\'key\\': \\'max_features\\', \\'old_value\\': None, \\'new_value\\': \\'1.0\\'}, {\\'key\\': \\'max_leaf_nodes\\', \\'old_value\\': None, \\'new_value\\': \\'None\\'}, {\\'key\\': \\'max_samples\\', \\'old_value\\': None, \\'new_value\\': \\'None\\'}, {\\'key\\': \\'min_impurity_decrease\\', \\'old_value\\': None, \\'new_value\\': \\'0.0\\'}, {\\'key\\': \\'min_weight_fraction_leaf\\', \\'old_value\\': None, \\'new_value\\': \\'0.0\\'}, {\\'key\\': \\'n_jobs\\', \\'old_value\\': None, \\'new_value\\': \\'None\\'}, {\\'key\\': \\'oob_score\\', \\'old_value\\': None, \\'new_value\\': \\'False\\'}, {\\'key\\': \\'verbose\\', \\'old_value\\': None, \\'new_value\\': \\'0\\'}, {\\'key\\': \\'warm_start\\', \\'old_value\\': None, \\'new_value\\': \\'False\\'}]\\' for run ID=\\'27798974bbbb41f1867830d0518b257e\\'.\")]')]\n",
      "\n"
     ]
    },
    {
     "name": "stdout",
     "output_type": "stream",
     "text": [
      "\r",
      " 66%|█████████████████████▊           | 33/50 [08:34<05:13, 18.47s/trial, best loss: 6.629728007710133]"
     ]
    },
    {
     "name": "stderr",
     "output_type": "stream",
     "text": [
      "2022/05/27 23:48:41 WARNING mlflow.utils.autologging_utils: Encountered unexpected error during sklearn autologging: The following failures occurred while performing one or more logging operations: [MlflowException('Failed to perform one or more operations on the run with ID 9a4bbfef62ec451aadbb848f2be35109. Failed operations: [RestException(\"INVALID_PARAMETER_VALUE: Changing param values is not allowed. Params were already logged=\\'[{\\'key\\': \\'bootstrap\\', \\'old_value\\': None, \\'new_value\\': \\'True\\'}, {\\'key\\': \\'ccp_alpha\\', \\'old_value\\': None, \\'new_value\\': \\'0.0\\'}, {\\'key\\': \\'criterion\\', \\'old_value\\': None, \\'new_value\\': \\'squared_error\\'}, {\\'key\\': \\'max_features\\', \\'old_value\\': None, \\'new_value\\': \\'1.0\\'}, {\\'key\\': \\'max_leaf_nodes\\', \\'old_value\\': None, \\'new_value\\': \\'None\\'}, {\\'key\\': \\'max_samples\\', \\'old_value\\': None, \\'new_value\\': \\'None\\'}, {\\'key\\': \\'min_impurity_decrease\\', \\'old_value\\': None, \\'new_value\\': \\'0.0\\'}, {\\'key\\': \\'min_weight_fraction_leaf\\', \\'old_value\\': None, \\'new_value\\': \\'0.0\\'}, {\\'key\\': \\'n_jobs\\', \\'old_value\\': None, \\'new_value\\': \\'None\\'}, {\\'key\\': \\'oob_score\\', \\'old_value\\': None, \\'new_value\\': \\'False\\'}, {\\'key\\': \\'verbose\\', \\'old_value\\': None, \\'new_value\\': \\'0\\'}, {\\'key\\': \\'warm_start\\', \\'old_value\\': None, \\'new_value\\': \\'False\\'}]\\' for run ID=\\'9a4bbfef62ec451aadbb848f2be35109\\'.\")]')]\n",
      "\n"
     ]
    },
    {
     "name": "stdout",
     "output_type": "stream",
     "text": [
      "\r",
      " 68%|█████████████████████▊          | 34/50 [08:58<05:22, 20.15s/trial, best loss: 6.6284257482044735]"
     ]
    },
    {
     "name": "stderr",
     "output_type": "stream",
     "text": [
      "2022/05/27 23:48:55 WARNING mlflow.utils.autologging_utils: Encountered unexpected error during sklearn autologging: The following failures occurred while performing one or more logging operations: [MlflowException('Failed to perform one or more operations on the run with ID 54355ef0897e45b8a69ac766e77e6c87. Failed operations: [RestException(\"INVALID_PARAMETER_VALUE: Changing param values is not allowed. Params were already logged=\\'[{\\'key\\': \\'bootstrap\\', \\'old_value\\': None, \\'new_value\\': \\'True\\'}, {\\'key\\': \\'ccp_alpha\\', \\'old_value\\': None, \\'new_value\\': \\'0.0\\'}, {\\'key\\': \\'criterion\\', \\'old_value\\': None, \\'new_value\\': \\'squared_error\\'}, {\\'key\\': \\'max_features\\', \\'old_value\\': None, \\'new_value\\': \\'1.0\\'}, {\\'key\\': \\'max_leaf_nodes\\', \\'old_value\\': None, \\'new_value\\': \\'None\\'}, {\\'key\\': \\'max_samples\\', \\'old_value\\': None, \\'new_value\\': \\'None\\'}, {\\'key\\': \\'min_impurity_decrease\\', \\'old_value\\': None, \\'new_value\\': \\'0.0\\'}, {\\'key\\': \\'min_weight_fraction_leaf\\', \\'old_value\\': None, \\'new_value\\': \\'0.0\\'}, {\\'key\\': \\'n_jobs\\', \\'old_value\\': None, \\'new_value\\': \\'None\\'}, {\\'key\\': \\'oob_score\\', \\'old_value\\': None, \\'new_value\\': \\'False\\'}, {\\'key\\': \\'verbose\\', \\'old_value\\': None, \\'new_value\\': \\'0\\'}, {\\'key\\': \\'warm_start\\', \\'old_value\\': None, \\'new_value\\': \\'False\\'}]\\' for run ID=\\'54355ef0897e45b8a69ac766e77e6c87\\'.\")]')]\n",
      "\n"
     ]
    },
    {
     "name": "stdout",
     "output_type": "stream",
     "text": [
      "\r",
      " 70%|██████████████████████▍         | 35/50 [09:12<04:33, 18.24s/trial, best loss: 6.6284257482044735]"
     ]
    },
    {
     "name": "stderr",
     "output_type": "stream",
     "text": [
      "2022/05/27 23:49:10 WARNING mlflow.utils.autologging_utils: Encountered unexpected error during sklearn autologging: The following failures occurred while performing one or more logging operations: [MlflowException('Failed to perform one or more operations on the run with ID 2c4d1a475b5a4a4ea7c3324f72eecbf4. Failed operations: [RestException(\"INVALID_PARAMETER_VALUE: Changing param values is not allowed. Params were already logged=\\'[{\\'key\\': \\'bootstrap\\', \\'old_value\\': None, \\'new_value\\': \\'True\\'}, {\\'key\\': \\'ccp_alpha\\', \\'old_value\\': None, \\'new_value\\': \\'0.0\\'}, {\\'key\\': \\'criterion\\', \\'old_value\\': None, \\'new_value\\': \\'squared_error\\'}, {\\'key\\': \\'max_features\\', \\'old_value\\': None, \\'new_value\\': \\'1.0\\'}, {\\'key\\': \\'max_leaf_nodes\\', \\'old_value\\': None, \\'new_value\\': \\'None\\'}, {\\'key\\': \\'max_samples\\', \\'old_value\\': None, \\'new_value\\': \\'None\\'}, {\\'key\\': \\'min_impurity_decrease\\', \\'old_value\\': None, \\'new_value\\': \\'0.0\\'}, {\\'key\\': \\'min_weight_fraction_leaf\\', \\'old_value\\': None, \\'new_value\\': \\'0.0\\'}, {\\'key\\': \\'n_jobs\\', \\'old_value\\': None, \\'new_value\\': \\'None\\'}, {\\'key\\': \\'oob_score\\', \\'old_value\\': None, \\'new_value\\': \\'False\\'}, {\\'key\\': \\'verbose\\', \\'old_value\\': None, \\'new_value\\': \\'0\\'}, {\\'key\\': \\'warm_start\\', \\'old_value\\': None, \\'new_value\\': \\'False\\'}]\\' for run ID=\\'2c4d1a475b5a4a4ea7c3324f72eecbf4\\'.\")]')]\n",
      "\n"
     ]
    },
    {
     "name": "stdout",
     "output_type": "stream",
     "text": [
      "\r",
      " 72%|███████████████████████         | 36/50 [09:27<04:00, 17.19s/trial, best loss: 6.6284257482044735]"
     ]
    },
    {
     "name": "stderr",
     "output_type": "stream",
     "text": [
      "2022/05/27 23:49:13 WARNING mlflow.utils.autologging_utils: Encountered unexpected error during sklearn autologging: The following failures occurred while performing one or more logging operations: [MlflowException('Failed to perform one or more operations on the run with ID c97e01b15c444271a03b2bc859ce2bf1. Failed operations: [RestException(\"INVALID_PARAMETER_VALUE: Changing param values is not allowed. Params were already logged=\\'[{\\'key\\': \\'bootstrap\\', \\'old_value\\': None, \\'new_value\\': \\'True\\'}, {\\'key\\': \\'ccp_alpha\\', \\'old_value\\': None, \\'new_value\\': \\'0.0\\'}, {\\'key\\': \\'criterion\\', \\'old_value\\': None, \\'new_value\\': \\'squared_error\\'}, {\\'key\\': \\'max_features\\', \\'old_value\\': None, \\'new_value\\': \\'1.0\\'}, {\\'key\\': \\'max_leaf_nodes\\', \\'old_value\\': None, \\'new_value\\': \\'None\\'}, {\\'key\\': \\'max_samples\\', \\'old_value\\': None, \\'new_value\\': \\'None\\'}, {\\'key\\': \\'min_impurity_decrease\\', \\'old_value\\': None, \\'new_value\\': \\'0.0\\'}, {\\'key\\': \\'min_weight_fraction_leaf\\', \\'old_value\\': None, \\'new_value\\': \\'0.0\\'}, {\\'key\\': \\'n_jobs\\', \\'old_value\\': None, \\'new_value\\': \\'None\\'}, {\\'key\\': \\'oob_score\\', \\'old_value\\': None, \\'new_value\\': \\'False\\'}, {\\'key\\': \\'verbose\\', \\'old_value\\': None, \\'new_value\\': \\'0\\'}, {\\'key\\': \\'warm_start\\', \\'old_value\\': None, \\'new_value\\': \\'False\\'}]\\' for run ID=\\'c97e01b15c444271a03b2bc859ce2bf1\\'.\")]')]\n",
      "\n"
     ]
    },
    {
     "name": "stdout",
     "output_type": "stream",
     "text": [
      "\r",
      " 74%|███████████████████████▋        | 37/50 [09:30<02:48, 12.93s/trial, best loss: 6.6284257482044735]"
     ]
    },
    {
     "name": "stderr",
     "output_type": "stream",
     "text": [
      "2022/05/27 23:49:32 WARNING mlflow.utils.autologging_utils: Encountered unexpected error during sklearn autologging: The following failures occurred while performing one or more logging operations: [MlflowException('Failed to perform one or more operations on the run with ID 1331b904d34a4868aad256ec27c5e6be. Failed operations: [RestException(\"INVALID_PARAMETER_VALUE: Changing param values is not allowed. Params were already logged=\\'[{\\'key\\': \\'bootstrap\\', \\'old_value\\': None, \\'new_value\\': \\'True\\'}, {\\'key\\': \\'ccp_alpha\\', \\'old_value\\': None, \\'new_value\\': \\'0.0\\'}, {\\'key\\': \\'criterion\\', \\'old_value\\': None, \\'new_value\\': \\'squared_error\\'}, {\\'key\\': \\'max_features\\', \\'old_value\\': None, \\'new_value\\': \\'1.0\\'}, {\\'key\\': \\'max_leaf_nodes\\', \\'old_value\\': None, \\'new_value\\': \\'None\\'}, {\\'key\\': \\'max_samples\\', \\'old_value\\': None, \\'new_value\\': \\'None\\'}, {\\'key\\': \\'min_impurity_decrease\\', \\'old_value\\': None, \\'new_value\\': \\'0.0\\'}, {\\'key\\': \\'min_weight_fraction_leaf\\', \\'old_value\\': None, \\'new_value\\': \\'0.0\\'}, {\\'key\\': \\'n_jobs\\', \\'old_value\\': None, \\'new_value\\': \\'None\\'}, {\\'key\\': \\'oob_score\\', \\'old_value\\': None, \\'new_value\\': \\'False\\'}, {\\'key\\': \\'verbose\\', \\'old_value\\': None, \\'new_value\\': \\'0\\'}, {\\'key\\': \\'warm_start\\', \\'old_value\\': None, \\'new_value\\': \\'False\\'}]\\' for run ID=\\'1331b904d34a4868aad256ec27c5e6be\\'.\")]')]\n",
      "\n"
     ]
    },
    {
     "name": "stdout",
     "output_type": "stream",
     "text": [
      "\r",
      " 76%|████████████████████████▎       | 38/50 [09:49<02:58, 14.86s/trial, best loss: 6.6284257482044735]"
     ]
    },
    {
     "name": "stderr",
     "output_type": "stream",
     "text": [
      "2022/05/27 23:49:54 WARNING mlflow.utils.autologging_utils: Encountered unexpected error during sklearn autologging: The following failures occurred while performing one or more logging operations: [MlflowException('Failed to perform one or more operations on the run with ID 7d3b7386ab5c445b88cfac58d58b4c35. Failed operations: [RestException(\"INVALID_PARAMETER_VALUE: Changing param values is not allowed. Params were already logged=\\'[{\\'key\\': \\'bootstrap\\', \\'old_value\\': None, \\'new_value\\': \\'True\\'}, {\\'key\\': \\'ccp_alpha\\', \\'old_value\\': None, \\'new_value\\': \\'0.0\\'}, {\\'key\\': \\'criterion\\', \\'old_value\\': None, \\'new_value\\': \\'squared_error\\'}, {\\'key\\': \\'max_features\\', \\'old_value\\': None, \\'new_value\\': \\'1.0\\'}, {\\'key\\': \\'max_leaf_nodes\\', \\'old_value\\': None, \\'new_value\\': \\'None\\'}, {\\'key\\': \\'max_samples\\', \\'old_value\\': None, \\'new_value\\': \\'None\\'}, {\\'key\\': \\'min_impurity_decrease\\', \\'old_value\\': None, \\'new_value\\': \\'0.0\\'}, {\\'key\\': \\'min_weight_fraction_leaf\\', \\'old_value\\': None, \\'new_value\\': \\'0.0\\'}, {\\'key\\': \\'n_jobs\\', \\'old_value\\': None, \\'new_value\\': \\'None\\'}, {\\'key\\': \\'oob_score\\', \\'old_value\\': None, \\'new_value\\': \\'False\\'}, {\\'key\\': \\'verbose\\', \\'old_value\\': None, \\'new_value\\': \\'0\\'}, {\\'key\\': \\'warm_start\\', \\'old_value\\': None, \\'new_value\\': \\'False\\'}]\\' for run ID=\\'7d3b7386ab5c445b88cfac58d58b4c35\\'.\")]')]\n",
      "\n"
     ]
    },
    {
     "name": "stdout",
     "output_type": "stream",
     "text": [
      "\r",
      " 78%|████████████████████████▉       | 39/50 [10:10<03:05, 16.86s/trial, best loss: 6.6284257482044735]"
     ]
    },
    {
     "name": "stderr",
     "output_type": "stream",
     "text": [
      "2022/05/27 23:50:15 WARNING mlflow.utils.autologging_utils: Encountered unexpected error during sklearn autologging: The following failures occurred while performing one or more logging operations: [MlflowException('Failed to perform one or more operations on the run with ID f3c7b8a1809a45dcb5be76496580ea91. Failed operations: [RestException(\"INVALID_PARAMETER_VALUE: Changing param values is not allowed. Params were already logged=\\'[{\\'key\\': \\'bootstrap\\', \\'old_value\\': None, \\'new_value\\': \\'True\\'}, {\\'key\\': \\'ccp_alpha\\', \\'old_value\\': None, \\'new_value\\': \\'0.0\\'}, {\\'key\\': \\'criterion\\', \\'old_value\\': None, \\'new_value\\': \\'squared_error\\'}, {\\'key\\': \\'max_features\\', \\'old_value\\': None, \\'new_value\\': \\'1.0\\'}, {\\'key\\': \\'max_leaf_nodes\\', \\'old_value\\': None, \\'new_value\\': \\'None\\'}, {\\'key\\': \\'max_samples\\', \\'old_value\\': None, \\'new_value\\': \\'None\\'}, {\\'key\\': \\'min_impurity_decrease\\', \\'old_value\\': None, \\'new_value\\': \\'0.0\\'}, {\\'key\\': \\'min_weight_fraction_leaf\\', \\'old_value\\': None, \\'new_value\\': \\'0.0\\'}, {\\'key\\': \\'n_jobs\\', \\'old_value\\': None, \\'new_value\\': \\'None\\'}, {\\'key\\': \\'oob_score\\', \\'old_value\\': None, \\'new_value\\': \\'False\\'}, {\\'key\\': \\'verbose\\', \\'old_value\\': None, \\'new_value\\': \\'0\\'}, {\\'key\\': \\'warm_start\\', \\'old_value\\': None, \\'new_value\\': \\'False\\'}]\\' for run ID=\\'f3c7b8a1809a45dcb5be76496580ea91\\'.\")]')]\n",
      "\n"
     ]
    },
    {
     "name": "stdout",
     "output_type": "stream",
     "text": [
      "\r",
      " 80%|█████████████████████████▌      | 40/50 [10:32<03:01, 18.18s/trial, best loss: 6.6284257482044735]"
     ]
    },
    {
     "name": "stderr",
     "output_type": "stream",
     "text": [
      "2022/05/27 23:50:22 WARNING mlflow.utils.autologging_utils: Encountered unexpected error during sklearn autologging: The following failures occurred while performing one or more logging operations: [MlflowException('Failed to perform one or more operations on the run with ID 203e3e0a2e0448dcafb04304746693f8. Failed operations: [RestException(\"INVALID_PARAMETER_VALUE: Changing param values is not allowed. Params were already logged=\\'[{\\'key\\': \\'bootstrap\\', \\'old_value\\': None, \\'new_value\\': \\'True\\'}, {\\'key\\': \\'ccp_alpha\\', \\'old_value\\': None, \\'new_value\\': \\'0.0\\'}, {\\'key\\': \\'criterion\\', \\'old_value\\': None, \\'new_value\\': \\'squared_error\\'}, {\\'key\\': \\'max_features\\', \\'old_value\\': None, \\'new_value\\': \\'1.0\\'}, {\\'key\\': \\'max_leaf_nodes\\', \\'old_value\\': None, \\'new_value\\': \\'None\\'}, {\\'key\\': \\'max_samples\\', \\'old_value\\': None, \\'new_value\\': \\'None\\'}, {\\'key\\': \\'min_impurity_decrease\\', \\'old_value\\': None, \\'new_value\\': \\'0.0\\'}, {\\'key\\': \\'min_weight_fraction_leaf\\', \\'old_value\\': None, \\'new_value\\': \\'0.0\\'}, {\\'key\\': \\'n_jobs\\', \\'old_value\\': None, \\'new_value\\': \\'None\\'}, {\\'key\\': \\'oob_score\\', \\'old_value\\': None, \\'new_value\\': \\'False\\'}, {\\'key\\': \\'verbose\\', \\'old_value\\': None, \\'new_value\\': \\'0\\'}, {\\'key\\': \\'warm_start\\', \\'old_value\\': None, \\'new_value\\': \\'False\\'}]\\' for run ID=\\'203e3e0a2e0448dcafb04304746693f8\\'.\")]')]\n",
      "\n"
     ]
    },
    {
     "name": "stdout",
     "output_type": "stream",
     "text": [
      "\r",
      " 82%|██████████████████████████▏     | 41/50 [10:39<02:13, 14.82s/trial, best loss: 6.6284257482044735]"
     ]
    },
    {
     "name": "stderr",
     "output_type": "stream",
     "text": [
      "2022/05/27 23:50:33 WARNING mlflow.utils.autologging_utils: Encountered unexpected error during sklearn autologging: The following failures occurred while performing one or more logging operations: [MlflowException('Failed to perform one or more operations on the run with ID 1d82f25c07b6471397c108ed7427c866. Failed operations: [RestException(\"INVALID_PARAMETER_VALUE: Changing param values is not allowed. Params were already logged=\\'[{\\'key\\': \\'bootstrap\\', \\'old_value\\': None, \\'new_value\\': \\'True\\'}, {\\'key\\': \\'ccp_alpha\\', \\'old_value\\': None, \\'new_value\\': \\'0.0\\'}, {\\'key\\': \\'criterion\\', \\'old_value\\': None, \\'new_value\\': \\'squared_error\\'}, {\\'key\\': \\'max_features\\', \\'old_value\\': None, \\'new_value\\': \\'1.0\\'}, {\\'key\\': \\'max_leaf_nodes\\', \\'old_value\\': None, \\'new_value\\': \\'None\\'}, {\\'key\\': \\'max_samples\\', \\'old_value\\': None, \\'new_value\\': \\'None\\'}, {\\'key\\': \\'min_impurity_decrease\\', \\'old_value\\': None, \\'new_value\\': \\'0.0\\'}, {\\'key\\': \\'min_weight_fraction_leaf\\', \\'old_value\\': None, \\'new_value\\': \\'0.0\\'}, {\\'key\\': \\'n_jobs\\', \\'old_value\\': None, \\'new_value\\': \\'None\\'}, {\\'key\\': \\'oob_score\\', \\'old_value\\': None, \\'new_value\\': \\'False\\'}, {\\'key\\': \\'verbose\\', \\'old_value\\': None, \\'new_value\\': \\'0\\'}, {\\'key\\': \\'warm_start\\', \\'old_value\\': None, \\'new_value\\': \\'False\\'}]\\' for run ID=\\'1d82f25c07b6471397c108ed7427c866\\'.\")]')]\n",
      "\n"
     ]
    },
    {
     "name": "stdout",
     "output_type": "stream",
     "text": [
      "\r",
      " 84%|██████████████████████████▉     | 42/50 [10:50<01:49, 13.71s/trial, best loss: 6.6284257482044735]"
     ]
    },
    {
     "name": "stderr",
     "output_type": "stream",
     "text": [
      "2022/05/27 23:50:48 WARNING mlflow.utils.autologging_utils: Encountered unexpected error during sklearn autologging: The following failures occurred while performing one or more logging operations: [MlflowException('Failed to perform one or more operations on the run with ID 77659c6d2fe940d8bab75d2109a8f4be. Failed operations: [RestException(\"INVALID_PARAMETER_VALUE: Changing param values is not allowed. Params were already logged=\\'[{\\'key\\': \\'bootstrap\\', \\'old_value\\': None, \\'new_value\\': \\'True\\'}, {\\'key\\': \\'ccp_alpha\\', \\'old_value\\': None, \\'new_value\\': \\'0.0\\'}, {\\'key\\': \\'criterion\\', \\'old_value\\': None, \\'new_value\\': \\'squared_error\\'}, {\\'key\\': \\'max_features\\', \\'old_value\\': None, \\'new_value\\': \\'1.0\\'}, {\\'key\\': \\'max_leaf_nodes\\', \\'old_value\\': None, \\'new_value\\': \\'None\\'}, {\\'key\\': \\'max_samples\\', \\'old_value\\': None, \\'new_value\\': \\'None\\'}, {\\'key\\': \\'min_impurity_decrease\\', \\'old_value\\': None, \\'new_value\\': \\'0.0\\'}, {\\'key\\': \\'min_weight_fraction_leaf\\', \\'old_value\\': None, \\'new_value\\': \\'0.0\\'}, {\\'key\\': \\'n_jobs\\', \\'old_value\\': None, \\'new_value\\': \\'None\\'}, {\\'key\\': \\'oob_score\\', \\'old_value\\': None, \\'new_value\\': \\'False\\'}, {\\'key\\': \\'verbose\\', \\'old_value\\': None, \\'new_value\\': \\'0\\'}, {\\'key\\': \\'warm_start\\', \\'old_value\\': None, \\'new_value\\': \\'False\\'}]\\' for run ID=\\'77659c6d2fe940d8bab75d2109a8f4be\\'.\")]')]\n",
      "\n"
     ]
    },
    {
     "name": "stdout",
     "output_type": "stream",
     "text": [
      "\r",
      " 86%|███████████████████████████▌    | 43/50 [11:05<01:38, 14.05s/trial, best loss: 6.6284257482044735]"
     ]
    },
    {
     "name": "stderr",
     "output_type": "stream",
     "text": [
      "2022/05/27 23:51:07 WARNING mlflow.utils.autologging_utils: Encountered unexpected error during sklearn autologging: The following failures occurred while performing one or more logging operations: [MlflowException('Failed to perform one or more operations on the run with ID 15c633a1304d436a8b170481a5db0017. Failed operations: [RestException(\"INVALID_PARAMETER_VALUE: Changing param values is not allowed. Params were already logged=\\'[{\\'key\\': \\'bootstrap\\', \\'old_value\\': None, \\'new_value\\': \\'True\\'}, {\\'key\\': \\'ccp_alpha\\', \\'old_value\\': None, \\'new_value\\': \\'0.0\\'}, {\\'key\\': \\'criterion\\', \\'old_value\\': None, \\'new_value\\': \\'squared_error\\'}, {\\'key\\': \\'max_features\\', \\'old_value\\': None, \\'new_value\\': \\'1.0\\'}, {\\'key\\': \\'max_leaf_nodes\\', \\'old_value\\': None, \\'new_value\\': \\'None\\'}, {\\'key\\': \\'max_samples\\', \\'old_value\\': None, \\'new_value\\': \\'None\\'}, {\\'key\\': \\'min_impurity_decrease\\', \\'old_value\\': None, \\'new_value\\': \\'0.0\\'}, {\\'key\\': \\'min_weight_fraction_leaf\\', \\'old_value\\': None, \\'new_value\\': \\'0.0\\'}, {\\'key\\': \\'n_jobs\\', \\'old_value\\': None, \\'new_value\\': \\'None\\'}, {\\'key\\': \\'oob_score\\', \\'old_value\\': None, \\'new_value\\': \\'False\\'}, {\\'key\\': \\'verbose\\', \\'old_value\\': None, \\'new_value\\': \\'0\\'}, {\\'key\\': \\'warm_start\\', \\'old_value\\': None, \\'new_value\\': \\'False\\'}]\\' for run ID=\\'15c633a1304d436a8b170481a5db0017\\'.\")]')]\n",
      "\n"
     ]
    },
    {
     "name": "stdout",
     "output_type": "stream",
     "text": [
      "\r",
      " 88%|████████████████████████████▏   | 44/50 [11:24<01:32, 15.50s/trial, best loss: 6.6284257482044735]"
     ]
    },
    {
     "name": "stderr",
     "output_type": "stream",
     "text": [
      "2022/05/27 23:51:18 WARNING mlflow.utils.autologging_utils: Encountered unexpected error during sklearn autologging: The following failures occurred while performing one or more logging operations: [MlflowException('Failed to perform one or more operations on the run with ID 360025cba53e4ec5861e3b8857e88078. Failed operations: [RestException(\"INVALID_PARAMETER_VALUE: Changing param values is not allowed. Params were already logged=\\'[{\\'key\\': \\'bootstrap\\', \\'old_value\\': None, \\'new_value\\': \\'True\\'}, {\\'key\\': \\'ccp_alpha\\', \\'old_value\\': None, \\'new_value\\': \\'0.0\\'}, {\\'key\\': \\'criterion\\', \\'old_value\\': None, \\'new_value\\': \\'squared_error\\'}, {\\'key\\': \\'max_features\\', \\'old_value\\': None, \\'new_value\\': \\'1.0\\'}, {\\'key\\': \\'max_leaf_nodes\\', \\'old_value\\': None, \\'new_value\\': \\'None\\'}, {\\'key\\': \\'max_samples\\', \\'old_value\\': None, \\'new_value\\': \\'None\\'}, {\\'key\\': \\'min_impurity_decrease\\', \\'old_value\\': None, \\'new_value\\': \\'0.0\\'}, {\\'key\\': \\'min_weight_fraction_leaf\\', \\'old_value\\': None, \\'new_value\\': \\'0.0\\'}, {\\'key\\': \\'n_jobs\\', \\'old_value\\': None, \\'new_value\\': \\'None\\'}, {\\'key\\': \\'oob_score\\', \\'old_value\\': None, \\'new_value\\': \\'False\\'}, {\\'key\\': \\'verbose\\', \\'old_value\\': None, \\'new_value\\': \\'0\\'}, {\\'key\\': \\'warm_start\\', \\'old_value\\': None, \\'new_value\\': \\'False\\'}]\\' for run ID=\\'360025cba53e4ec5861e3b8857e88078\\'.\")]')]\n",
      "\n"
     ]
    },
    {
     "name": "stdout",
     "output_type": "stream",
     "text": [
      "\r",
      " 90%|████████████████████████████▊   | 45/50 [11:34<01:10, 14.10s/trial, best loss: 6.6284257482044735]"
     ]
    },
    {
     "name": "stderr",
     "output_type": "stream",
     "text": [
      "2022/05/27 23:51:23 WARNING mlflow.utils.autologging_utils: Encountered unexpected error during sklearn autologging: The following failures occurred while performing one or more logging operations: [MlflowException('Failed to perform one or more operations on the run with ID 757879f7c6cf4022babe6f846e071640. Failed operations: [RestException(\"INVALID_PARAMETER_VALUE: Changing param values is not allowed. Params were already logged=\\'[{\\'key\\': \\'bootstrap\\', \\'old_value\\': None, \\'new_value\\': \\'True\\'}, {\\'key\\': \\'ccp_alpha\\', \\'old_value\\': None, \\'new_value\\': \\'0.0\\'}, {\\'key\\': \\'criterion\\', \\'old_value\\': None, \\'new_value\\': \\'squared_error\\'}, {\\'key\\': \\'max_features\\', \\'old_value\\': None, \\'new_value\\': \\'1.0\\'}, {\\'key\\': \\'max_leaf_nodes\\', \\'old_value\\': None, \\'new_value\\': \\'None\\'}, {\\'key\\': \\'max_samples\\', \\'old_value\\': None, \\'new_value\\': \\'None\\'}, {\\'key\\': \\'min_impurity_decrease\\', \\'old_value\\': None, \\'new_value\\': \\'0.0\\'}, {\\'key\\': \\'min_weight_fraction_leaf\\', \\'old_value\\': None, \\'new_value\\': \\'0.0\\'}, {\\'key\\': \\'n_jobs\\', \\'old_value\\': None, \\'new_value\\': \\'None\\'}, {\\'key\\': \\'oob_score\\', \\'old_value\\': None, \\'new_value\\': \\'False\\'}, {\\'key\\': \\'verbose\\', \\'old_value\\': None, \\'new_value\\': \\'0\\'}, {\\'key\\': \\'warm_start\\', \\'old_value\\': None, \\'new_value\\': \\'False\\'}]\\' for run ID=\\'757879f7c6cf4022babe6f846e071640\\'.\")]')]\n",
      "\n"
     ]
    },
    {
     "name": "stdout",
     "output_type": "stream",
     "text": [
      "\r",
      " 92%|█████████████████████████████▍  | 46/50 [11:40<00:45, 11.48s/trial, best loss: 6.6284257482044735]"
     ]
    },
    {
     "name": "stderr",
     "output_type": "stream",
     "text": [
      "2022/05/27 23:51:38 WARNING mlflow.utils.autologging_utils: Encountered unexpected error during sklearn autologging: The following failures occurred while performing one or more logging operations: [MlflowException('Failed to perform one or more operations on the run with ID b002ae1d7c8b40499d3d1ae91a533e1d. Failed operations: [RestException(\"INVALID_PARAMETER_VALUE: Changing param values is not allowed. Params were already logged=\\'[{\\'key\\': \\'bootstrap\\', \\'old_value\\': None, \\'new_value\\': \\'True\\'}, {\\'key\\': \\'ccp_alpha\\', \\'old_value\\': None, \\'new_value\\': \\'0.0\\'}, {\\'key\\': \\'criterion\\', \\'old_value\\': None, \\'new_value\\': \\'squared_error\\'}, {\\'key\\': \\'max_features\\', \\'old_value\\': None, \\'new_value\\': \\'1.0\\'}, {\\'key\\': \\'max_leaf_nodes\\', \\'old_value\\': None, \\'new_value\\': \\'None\\'}, {\\'key\\': \\'max_samples\\', \\'old_value\\': None, \\'new_value\\': \\'None\\'}, {\\'key\\': \\'min_impurity_decrease\\', \\'old_value\\': None, \\'new_value\\': \\'0.0\\'}, {\\'key\\': \\'min_weight_fraction_leaf\\', \\'old_value\\': None, \\'new_value\\': \\'0.0\\'}, {\\'key\\': \\'n_jobs\\', \\'old_value\\': None, \\'new_value\\': \\'None\\'}, {\\'key\\': \\'oob_score\\', \\'old_value\\': None, \\'new_value\\': \\'False\\'}, {\\'key\\': \\'verbose\\', \\'old_value\\': None, \\'new_value\\': \\'0\\'}, {\\'key\\': \\'warm_start\\', \\'old_value\\': None, \\'new_value\\': \\'False\\'}]\\' for run ID=\\'b002ae1d7c8b40499d3d1ae91a533e1d\\'.\")]')]\n",
      "\n"
     ]
    },
    {
     "name": "stdout",
     "output_type": "stream",
     "text": [
      "\r",
      " 94%|██████████████████████████████  | 47/50 [11:55<00:37, 12.62s/trial, best loss: 6.6284257482044735]"
     ]
    },
    {
     "name": "stderr",
     "output_type": "stream",
     "text": [
      "2022/05/27 23:51:48 WARNING mlflow.utils.autologging_utils: Encountered unexpected error during sklearn autologging: The following failures occurred while performing one or more logging operations: [MlflowException('Failed to perform one or more operations on the run with ID f06991d864244734b32ebb94eda6eada. Failed operations: [RestException(\"INVALID_PARAMETER_VALUE: Changing param values is not allowed. Params were already logged=\\'[{\\'key\\': \\'bootstrap\\', \\'old_value\\': None, \\'new_value\\': \\'True\\'}, {\\'key\\': \\'ccp_alpha\\', \\'old_value\\': None, \\'new_value\\': \\'0.0\\'}, {\\'key\\': \\'criterion\\', \\'old_value\\': None, \\'new_value\\': \\'squared_error\\'}, {\\'key\\': \\'max_features\\', \\'old_value\\': None, \\'new_value\\': \\'1.0\\'}, {\\'key\\': \\'max_leaf_nodes\\', \\'old_value\\': None, \\'new_value\\': \\'None\\'}, {\\'key\\': \\'max_samples\\', \\'old_value\\': None, \\'new_value\\': \\'None\\'}, {\\'key\\': \\'min_impurity_decrease\\', \\'old_value\\': None, \\'new_value\\': \\'0.0\\'}, {\\'key\\': \\'min_weight_fraction_leaf\\', \\'old_value\\': None, \\'new_value\\': \\'0.0\\'}, {\\'key\\': \\'n_jobs\\', \\'old_value\\': None, \\'new_value\\': \\'None\\'}, {\\'key\\': \\'oob_score\\', \\'old_value\\': None, \\'new_value\\': \\'False\\'}, {\\'key\\': \\'verbose\\', \\'old_value\\': None, \\'new_value\\': \\'0\\'}, {\\'key\\': \\'warm_start\\', \\'old_value\\': None, \\'new_value\\': \\'False\\'}]\\' for run ID=\\'f06991d864244734b32ebb94eda6eada\\'.\")]')]\n",
      "\n"
     ]
    },
    {
     "name": "stdout",
     "output_type": "stream",
     "text": [
      "\r",
      " 96%|██████████████████████████████▋ | 48/50 [12:05<00:23, 11.78s/trial, best loss: 6.6284257482044735]"
     ]
    },
    {
     "name": "stderr",
     "output_type": "stream",
     "text": [
      "2022/05/27 23:52:02 WARNING mlflow.utils.autologging_utils: Encountered unexpected error during sklearn autologging: The following failures occurred while performing one or more logging operations: [MlflowException('Failed to perform one or more operations on the run with ID 2f4d99768aa64fee91efdf6a0e361b3f. Failed operations: [RestException(\"INVALID_PARAMETER_VALUE: Changing param values is not allowed. Params were already logged=\\'[{\\'key\\': \\'bootstrap\\', \\'old_value\\': None, \\'new_value\\': \\'True\\'}, {\\'key\\': \\'ccp_alpha\\', \\'old_value\\': None, \\'new_value\\': \\'0.0\\'}, {\\'key\\': \\'criterion\\', \\'old_value\\': None, \\'new_value\\': \\'squared_error\\'}, {\\'key\\': \\'max_features\\', \\'old_value\\': None, \\'new_value\\': \\'1.0\\'}, {\\'key\\': \\'max_leaf_nodes\\', \\'old_value\\': None, \\'new_value\\': \\'None\\'}, {\\'key\\': \\'max_samples\\', \\'old_value\\': None, \\'new_value\\': \\'None\\'}, {\\'key\\': \\'min_impurity_decrease\\', \\'old_value\\': None, \\'new_value\\': \\'0.0\\'}, {\\'key\\': \\'min_weight_fraction_leaf\\', \\'old_value\\': None, \\'new_value\\': \\'0.0\\'}, {\\'key\\': \\'n_jobs\\', \\'old_value\\': None, \\'new_value\\': \\'None\\'}, {\\'key\\': \\'oob_score\\', \\'old_value\\': None, \\'new_value\\': \\'False\\'}, {\\'key\\': \\'verbose\\', \\'old_value\\': None, \\'new_value\\': \\'0\\'}, {\\'key\\': \\'warm_start\\', \\'old_value\\': None, \\'new_value\\': \\'False\\'}]\\' for run ID=\\'2f4d99768aa64fee91efdf6a0e361b3f\\'.\")]')]\n",
      "\n"
     ]
    },
    {
     "name": "stdout",
     "output_type": "stream",
     "text": [
      "\r",
      " 98%|███████████████████████████████▎| 49/50 [12:19<00:12, 12.44s/trial, best loss: 6.6284257482044735]"
     ]
    },
    {
     "name": "stderr",
     "output_type": "stream",
     "text": [
      "2022/05/27 23:52:18 WARNING mlflow.utils.autologging_utils: Encountered unexpected error during sklearn autologging: The following failures occurred while performing one or more logging operations: [MlflowException('Failed to perform one or more operations on the run with ID ea6fbff0ea20444cab2f63da3d090efe. Failed operations: [RestException(\"INVALID_PARAMETER_VALUE: Changing param values is not allowed. Params were already logged=\\'[{\\'key\\': \\'bootstrap\\', \\'old_value\\': None, \\'new_value\\': \\'True\\'}, {\\'key\\': \\'ccp_alpha\\', \\'old_value\\': None, \\'new_value\\': \\'0.0\\'}, {\\'key\\': \\'criterion\\', \\'old_value\\': None, \\'new_value\\': \\'squared_error\\'}, {\\'key\\': \\'max_features\\', \\'old_value\\': None, \\'new_value\\': \\'1.0\\'}, {\\'key\\': \\'max_leaf_nodes\\', \\'old_value\\': None, \\'new_value\\': \\'None\\'}, {\\'key\\': \\'max_samples\\', \\'old_value\\': None, \\'new_value\\': \\'None\\'}, {\\'key\\': \\'min_impurity_decrease\\', \\'old_value\\': None, \\'new_value\\': \\'0.0\\'}, {\\'key\\': \\'min_weight_fraction_leaf\\', \\'old_value\\': None, \\'new_value\\': \\'0.0\\'}, {\\'key\\': \\'n_jobs\\', \\'old_value\\': None, \\'new_value\\': \\'None\\'}, {\\'key\\': \\'oob_score\\', \\'old_value\\': None, \\'new_value\\': \\'False\\'}, {\\'key\\': \\'verbose\\', \\'old_value\\': None, \\'new_value\\': \\'0\\'}, {\\'key\\': \\'warm_start\\', \\'old_value\\': None, \\'new_value\\': \\'False\\'}]\\' for run ID=\\'ea6fbff0ea20444cab2f63da3d090efe\\'.\")]')]\n",
      "\n"
     ]
    },
    {
     "name": "stdout",
     "output_type": "stream",
     "text": [
      "100%|████████████████████████████████| 50/50 [12:35<00:00, 15.10s/trial, best loss: 6.6284257482044735]\n"
     ]
    }
   ],
   "source": [
    "%run hpo_modified.py"
   ]
  },
  {
   "cell_type": "markdown",
   "id": "2e246016",
   "metadata": {},
   "source": [
    "# Q6. Promote the best model to the model registry\n",
    "\n",
    "The results from the hyperparameter optimization are quite good so we can assume that we are ready to test some of these models in production. In this exercise, you'll promote the best model to the model registry. We have prepared a script called `register_model.py`, which will check the results from the previous step and select the top 5 runs. After that, it will calculate the RMSE of those models on the test set (March 2021 data) and save the results to a new experiment called `random-forest-best-models`.\n",
    "\n",
    "Your task is to update the script `register_model.py` so that it selects the model with the lowest RMSE on the test set and registers it to the model registry.\n",
    "\n",
    "Tip 1: you can use the method `search_runs` from the `MlflowClient` to get the model with the lowest RMSE.\n",
    "Tip 2: to register the model you can use the method `mlflow.register_model` and you will need to pass the right model_uri in the form of a string that looks like this: `\"runs:/<RUN_ID>/model\"`, and the name of the model (make sure to choose a good one!).\n",
    "\n",
    "What is the test RMSE of the best model?\n",
    "\n",
    "* 6.1\n",
    "* **6.55**\n",
    "* 7.93\n",
    "* 15.1"
   ]
  },
  {
   "cell_type": "code",
   "execution_count": 46,
   "id": "6bd37763",
   "metadata": {},
   "outputs": [
    {
     "name": "stdout",
     "output_type": "stream",
     "text": [
      "Writing register_model_modified.py\n"
     ]
    }
   ],
   "source": [
    "%%writefile register_model_modified.py\n",
    "import argparse\n",
    "import os\n",
    "import pickle\n",
    "\n",
    "import mlflow\n",
    "from hyperopt import hp, space_eval\n",
    "from hyperopt.pyll import scope\n",
    "from mlflow.entities import ViewType\n",
    "from mlflow.tracking import MlflowClient\n",
    "from sklearn.ensemble import RandomForestRegressor\n",
    "from sklearn.metrics import mean_squared_error\n",
    "\n",
    "HPO_EXPERIMENT_NAME = \"random-forest-hyperopt\"\n",
    "EXPERIMENT_NAME = \"random-forest-best-models\"\n",
    "\n",
    "mlflow.set_tracking_uri(\"http://127.0.0.1:5000\")\n",
    "mlflow.set_experiment(EXPERIMENT_NAME)\n",
    "mlflow.sklearn.autolog()\n",
    "\n",
    "SPACE = {\n",
    "    'max_depth': scope.int(hp.quniform('max_depth', 1, 20, 1)),\n",
    "    'n_estimators': scope.int(hp.quniform('n_estimators', 10, 50, 1)),\n",
    "    'min_samples_split': scope.int(hp.quniform('min_samples_split', 2, 10, 1)),\n",
    "    'min_samples_leaf': scope.int(hp.quniform('min_samples_leaf', 1, 4, 1)),\n",
    "    'random_state': 42\n",
    "}\n",
    "\n",
    "\n",
    "def load_pickle(filename):\n",
    "    with open(filename, \"rb\") as f_in:\n",
    "        return pickle.load(f_in)\n",
    "\n",
    "\n",
    "def train_and_log_model(data_path, params):\n",
    "    X_train, y_train = load_pickle(os.path.join(data_path, \"train.pkl\"))\n",
    "    X_valid, y_valid = load_pickle(os.path.join(data_path, \"valid.pkl\"))\n",
    "    X_test, y_test = load_pickle(os.path.join(data_path, \"test.pkl\"))\n",
    "\n",
    "    with mlflow.start_run():\n",
    "        params = space_eval(SPACE, params)\n",
    "        rf = RandomForestRegressor(**params)\n",
    "        rf.fit(X_train, y_train)\n",
    "\n",
    "        # evaluate model on the validation and test sets\n",
    "        valid_rmse = mean_squared_error(y_valid, rf.predict(X_valid), squared=False)\n",
    "        mlflow.log_metric(\"valid_rmse\", valid_rmse)\n",
    "        test_rmse = mean_squared_error(y_test, rf.predict(X_test), squared=False)\n",
    "        mlflow.log_metric(\"test_rmse\", test_rmse)\n",
    "\n",
    "\n",
    "def run(data_path, log_top):\n",
    "\n",
    "    client = MlflowClient()\n",
    "\n",
    "    # retrieve the top_n model runs and log the models to MLflow\n",
    "    experiment = client.get_experiment_by_name(HPO_EXPERIMENT_NAME)\n",
    "    runs = client.search_runs(\n",
    "        experiment_ids=experiment.experiment_id,\n",
    "        run_view_type=ViewType.ACTIVE_ONLY,\n",
    "        max_results=log_top,\n",
    "        order_by=[\"metrics.rmse ASC\"]\n",
    "    )\n",
    "    for run in runs:\n",
    "        train_and_log_model(data_path=data_path, params=run.data.params)\n",
    "\n",
    "    # select the model with the lowest test RMSE\n",
    "    experiment = client.get_experiment_by_name(EXPERIMENT_NAME)\n",
    "    best_run = client.search_runs(\n",
    "        experiment_ids=experiment.experiment_id,\n",
    "        run_view_type=ViewType.ACTIVE_ONLY,\n",
    "        max_results=log_top,\n",
    "        order_by=[\"metrics.rmse ASC\"])[0]\n",
    "\n",
    "    # register the best model\n",
    "    run_id = best_run.info.run_id\n",
    "    model_uri = f\"runs:/{run_id}/model\"\n",
    "    mlflow.register_model(model_uri = model_uri, name = \"random-forest-best\")\n",
    "\n",
    "\n",
    "if __name__ == '__main__':\n",
    "\n",
    "    parser = argparse.ArgumentParser()\n",
    "    parser.add_argument(\n",
    "        \"--data_path\",\n",
    "        default=\"./output\",\n",
    "        help=\"the location where the processed NYC taxi trip data was saved.\"\n",
    "    )\n",
    "    parser.add_argument(\n",
    "        \"--top_n\",\n",
    "        default=5,\n",
    "        type=int,\n",
    "        help=\"the top 'top_n' models will be evaluated to decide which model to promote.\"\n",
    "    )\n",
    "    args = parser.parse_args()\n",
    "\n",
    "    run(args.data_path, args.top_n)"
   ]
  },
  {
   "cell_type": "code",
   "execution_count": 47,
   "id": "751ec778",
   "metadata": {},
   "outputs": [
    {
     "name": "stderr",
     "output_type": "stream",
     "text": [
      "2022/05/28 00:19:02 WARNING mlflow.utils.autologging_utils: You are using an unsupported version of sklearn. If you encounter errors during autologging, try upgrading / downgrading sklearn to a supported version, or try upgrading MLflow.\n",
      "Successfully registered model 'random-forest-best'.\n",
      "2022/05/28 00:21:14 INFO mlflow.tracking._model_registry.client: Waiting up to 300 seconds for model version to finish creation.                     Model name: random-forest-best, version 1\n",
      "Created version '1' of model 'random-forest-best'.\n"
     ]
    }
   ],
   "source": [
    "%run register_model_modified.py"
   ]
  }
 ],
 "metadata": {
  "kernelspec": {
   "display_name": "Python 3 (ipykernel)",
   "language": "python",
   "name": "python3"
  },
  "language_info": {
   "codemirror_mode": {
    "name": "ipython",
    "version": 3
   },
   "file_extension": ".py",
   "mimetype": "text/x-python",
   "name": "python",
   "nbconvert_exporter": "python",
   "pygments_lexer": "ipython3",
   "version": "3.9.12"
  }
 },
 "nbformat": 4,
 "nbformat_minor": 5
}
