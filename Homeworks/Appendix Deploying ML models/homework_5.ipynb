{
 "cells": [
  {
   "cell_type": "markdown",
   "id": "35aeb079",
   "metadata": {},
   "source": [
    "```bash\n",
    "pip install pipenv\n",
    "pipenv --version\n",
    "    \n",
    "\n",
    "```"
   ]
  },
  {
   "cell_type": "markdown",
   "id": "127005cd",
   "metadata": {},
   "source": [
    "You can run python script using and environment whithout using pipenv shell, you just type:\n",
    "\n",
    "```bash\n",
    "pipenv run python predict.py\n",
    "```"
   ]
  },
  {
   "cell_type": "code",
   "execution_count": null,
   "id": "40e3e610",
   "metadata": {},
   "outputs": [],
   "source": []
  },
  {
   "cell_type": "markdown",
   "id": "607f49e6",
   "metadata": {},
   "source": [
    "## Question 1\n",
    "\n",
    "* Install Pipenv\n",
    "* What's the version of pipenv you installed?\n",
    "* Use `--version` to find out\n"
   ]
  },
  {
   "cell_type": "markdown",
   "id": "cb7c8506",
   "metadata": {},
   "source": [
    "**ANSWER**: ```pipenv, version 2022.6.7```"
   ]
  },
  {
   "cell_type": "markdown",
   "id": "209ff9cd",
   "metadata": {},
   "source": [
    "\n",
    "\n",
    "## Question 2\n",
    "\n",
    "* Use Pipenv to install Scikit-Learn version 1.0\n",
    "* What's the first hash for scikit-learn you get in Pipfile.lock? \n",
    "\n",
    "\n",
    "## Models\n",
    "\n",
    "We've prepared a dictionary vectorizer and a model.\n",
    "\n",
    "They were trained (roughly) using this code:\n",
    "\n",
    "```\n",
    "features = ['tenure', 'monthlycharges', 'contract']\n",
    "dicts = df[features].to_dict(orient='records')\n",
    "\n",
    "dv = DictVectorizer(sparse=False)\n",
    "X = dv.fit_transform(dicts)\n",
    "\n",
    "model = LogisticRegression().fit(X, y)\n",
    "```\n",
    "\n",
    "> **Note**: You don't need to train the model. This code is just for your reference.\n",
    "\n",
    "And then saved with Pickle. Download them:\n",
    "\n",
    "* [DictVectorizer](https://github.com/alexeygrigorev/mlbookcamp-code/blob/master/course-zoomcamp/05-deployment/homework/dv.bin?raw=true)\n",
    "* [LogisticRegression](https://github.com/alexeygrigorev/mlbookcamp-code/blob/master/course-zoomcamp/05-deployment/homework/model1.bin?raw=true)\n",
    "\n",
    "With wget:\n",
    "\n",
    "```bash\n",
    "PREFIX=https://raw.githubusercontent.com/alexeygrigorev/mlbookcamp-code/master/course-zoomcamp/05-deployment/homework\n",
    "wget $PREFIX/model1.bin\n",
    "wget $PREFIX/dv.bin\n",
    "```"
   ]
  },
  {
   "cell_type": "markdown",
   "id": "e565f0c2",
   "metadata": {},
   "source": [
    "**ANSWER**: ```sha256:121f78d6564000dc5e968394f45aac87981fcaaf2be40cfcd8f07b2baa1e1829```"
   ]
  },
  {
   "cell_type": "code",
   "execution_count": null,
   "id": "5d02f8cd",
   "metadata": {},
   "outputs": [],
   "source": [
    "!pipenv install scikit-learn==1.0"
   ]
  },
  {
   "cell_type": "markdown",
   "id": "32d73998",
   "metadata": {},
   "source": [
    "## Question 3\n",
    "\n",
    "Let's use these models!\n",
    "\n",
    "* Write a script for loading these models with pickle\n",
    "* Score this customer:\n",
    "\n",
    "```json\n",
    "{\"contract\": \"two_year\", \"tenure\": 12, \"monthlycharges\": 19.7}\n",
    "```\n",
    "\n",
    "What's the probability that this customer is churning? \n",
    "\n",
    "If you're getting errors when unpickling the files, check their checksum:\n",
    "\n",
    "```bash\n",
    "$ md5sum model1.bin dv.bin\n",
    "5868e129bfbb309ba60bf750263afab1  model1.bin\n",
    "c49b69f8a5a3c560882ff5daa3c0ff4d  dv.bin\n",
    "```"
   ]
  },
  {
   "cell_type": "markdown",
   "id": "cf70dba5",
   "metadata": {},
   "source": [
    "**ANSWER**: ```0.11549580587832914```"
   ]
  },
  {
   "cell_type": "code",
   "execution_count": 1,
   "id": "00153685",
   "metadata": {},
   "outputs": [
    {
     "name": "stdout",
     "output_type": "stream",
     "text": [
      "Overwriting predict.py\n"
     ]
    }
   ],
   "source": [
    "%%writefile predict.py\n",
    "import pickle\n",
    "\n",
    "model_name = \"model1.bin\"\n",
    "dv_name = \"dv.bin\"\n",
    "\n",
    "with open(model_name, \"rb\") as f_in:\n",
    "    model = pickle.load(f_in)\n",
    "with open(dv_name, \"rb\") as f_in:\n",
    "    dv = pickle.load(f_in)\n",
    "    \n",
    "def predict(customer):\n",
    "    X = dv.transform([customer])\n",
    "    y_pred = model.predict_proba(X)\n",
    "    churn_proba = y_pred[0][1]\n",
    "    \n",
    "    return churn_proba\n",
    "\n",
    "customer = {\"contract\": \"two_year\", \"tenure\": 12, \"monthlycharges\": 19.7}\n",
    "\n",
    "print(predict(customer))"
   ]
  },
  {
   "cell_type": "markdown",
   "id": "d362db38",
   "metadata": {},
   "source": [
    "## Question 4\n",
    "\n",
    "Now let's serve this model as a web service\n",
    "\n",
    "* Install Flask and Gunicorn (or waitress, if you're on Windows)\n",
    "* Write Flask code for serving the model\n",
    "* Now score this customer using `requests`:\n",
    "\n",
    "```python\n",
    "url = \"YOUR_URL\"\n",
    "customer = {\"contract\": \"two_year\", \"tenure\": 1, \"monthlycharges\": 10}\n",
    "requests.post(url, json=customer).json()\n",
    "```\n",
    "\n",
    "What's the probability that this customer is churning?\n",
    "\n",
    "\n",
    "## Docker\n",
    "\n",
    "Install [Docker](06-docker.md). We will use it for the next two questions.\n",
    "\n",
    "For these questions, I prepared a base image: `agrigorev/zoomcamp-model:3.8.12-slim`. \n",
    "You'll need to use it (see Question 5 for an example).\n",
    "\n",
    "This image is based on `python:3.8.12-slim` and has a logistic regression model \n",
    "(a different one) as well a dictionary vectorizer inside. \n",
    "\n",
    "This is how the Dockerfile for this image looks like:\n",
    "\n",
    "```docker \n",
    "FROM python:3.8.12-slim\n",
    "WORKDIR /app\n",
    "COPY [\"model2.bin\", \"dv.bin\", \"./\"]\n",
    "```\n",
    "\n",
    "I already built it and then pushed it to [`agrigorev/zoomcamp-model:3.8.12-slim`](https://hub.docker.com/r/agrigorev/zoomcamp-model).\n",
    "\n",
    "> **Note**: You don't need to build this docker image, it's just for your reference."
   ]
  },
  {
   "cell_type": "markdown",
   "id": "073d6444",
   "metadata": {},
   "source": [
    "**ANSWER**. ```0.9988892771007961```"
   ]
  },
  {
   "cell_type": "code",
   "execution_count": 2,
   "id": "01a50bcc",
   "metadata": {},
   "outputs": [
    {
     "name": "stdout",
     "output_type": "stream",
     "text": [
      "Overwriting predict.py\n"
     ]
    }
   ],
   "source": [
    "%%writefile predict.py\n",
    "import pickle\n",
    "\n",
    "from flask import Flask, request, jsonify\n",
    "\n",
    "# Load Model\n",
    "model_name = \"model1.bin\"\n",
    "dv_name = \"dv.bin\"\n",
    "\n",
    "with open(model_name, \"rb\") as f_in:\n",
    "    model = pickle.load(f_in)\n",
    "with open(dv_name, \"rb\") as f_in:\n",
    "    dv = pickle.load(f_in)\n",
    "\n",
    "# Flask App\n",
    "app = Flask(\"churn-app-h5\")\n",
    "\n",
    "def predict_proba(customer):\n",
    "    X = dv.transform([customer])\n",
    "    y_pred = model.predict_proba(X)\n",
    "    churn_proba = y_pred[0][1]\n",
    "    \n",
    "    return churn_proba\n",
    "    \n",
    "@app.route(\"/predict_churn\", methods = [\"POST\"])\n",
    "def predict_post():\n",
    "    customer = request.get_json()\n",
    "    \n",
    "    churn_proba = predict_proba(customer)\n",
    "    churn_bool = churn_proba >= 0.5\n",
    "    \n",
    "    result = {\n",
    "        \"churn_proba\": float(churn_proba),\n",
    "        \"churn_bool\": bool(churn_bool)\n",
    "    }\n",
    "    \n",
    "    return jsonify(result)\n",
    "\n",
    "\n",
    "if __name__ == \"__main__\":\n",
    "    app.run(debug = True, host = '0.0.0.0', port = 7878)"
   ]
  },
  {
   "cell_type": "code",
   "execution_count": 3,
   "id": "cc6bace0",
   "metadata": {
    "scrolled": false
   },
   "outputs": [
    {
     "data": {
      "text/plain": [
       "{'churn_bool': True, 'churn_proba': 0.9988892771007961}"
      ]
     },
     "execution_count": 3,
     "metadata": {},
     "output_type": "execute_result"
    }
   ],
   "source": [
    "import requests\n",
    "\n",
    "url = \"http://127.0.0.1:7878/predict_churn\"\n",
    "customer = {\"contract\": \"two_year\", \"tenure\": 1, \"monthlycharges\": 10}\n",
    "requests.post(url, json = customer).json()"
   ]
  },
  {
   "cell_type": "markdown",
   "id": "e2c09c34",
   "metadata": {},
   "source": [
    "## Question 5\n",
    "\n",
    "Now create your own Dockerfile based on the image I prepared.\n",
    "\n",
    "It should start like that:\n",
    "\n",
    "```docker\n",
    "FROM agrigorev/zoomcamp-model:3.8.12-slim\n",
    "# add your stuff here\n",
    "```\n",
    "\n",
    "Now complete it:\n",
    "\n",
    "* Install all the dependencies form the Pipenv file\n",
    "* Copy your Flask script\n",
    "* Run it with gunicorn \n",
    "\n",
    "\n",
    "When you build your image, what's the image id for `agrigorev/zoomcamp-model:3.8.12-slim`?\n",
    "\n",
    "Look at the first step of your build log. It should look something like that:\n",
    "\n",
    "```\n",
    "$ docker some-command-for-building\n",
    "Sending build context to Docker daemon  2.048kB\n",
    "Step 1/N : FROM agrigorev/zoomcamp-model:3.8.12-slim\n",
    " ---> XXXXXXXXXXXX\n",
    "Step 2/N : ....\n",
    "```\n",
    "\n",
    "You need this `XXXXXXXXXXXX`.\n",
    "\n",
    "Alternatively, you can get this information when running `docker images` - it'll be in the \"IMAGE ID\" column.\n",
    "Submitting DIGEST (long string starting with \"sha256\") is also fine."
   ]
  },
  {
   "cell_type": "markdown",
   "id": "14977b5b",
   "metadata": {},
   "source": [
    "**ANSWER**: ```f0f43f7bc6e0```"
   ]
  },
  {
   "cell_type": "code",
   "execution_count": 4,
   "id": "ab975ed9",
   "metadata": {},
   "outputs": [
    {
     "name": "stdout",
     "output_type": "stream",
     "text": [
      "Overwriting predict_to_docker.py\n"
     ]
    }
   ],
   "source": [
    "%%writefile predict_to_docker.py\n",
    "import pickle\n",
    "\n",
    "from flask import Flask, request, jsonify\n",
    "\n",
    "# Load Model\n",
    "model_name = \"model2.bin\"\n",
    "dv_name = \"dv.bin\"\n",
    "\n",
    "with open(model_name, \"rb\") as f_in:\n",
    "    model = pickle.load(f_in)\n",
    "with open(dv_name, \"rb\") as f_in:\n",
    "    dv = pickle.load(f_in)\n",
    "\n",
    "# Flask App\n",
    "app = Flask(\"churn-app-h5\")\n",
    "\n",
    "def predict_proba(customer):\n",
    "    X = dv.transform([customer])\n",
    "    y_pred = model.predict_proba(X)\n",
    "    churn_proba = y_pred[0][1]\n",
    "    \n",
    "    return churn_proba\n",
    "    \n",
    "@app.route(\"/predict_churn\", methods = [\"POST\"])\n",
    "def predict_post():\n",
    "    customer = request.get_json()\n",
    "    \n",
    "    churn_proba = predict_proba(customer)\n",
    "    churn_bool = churn_proba >= 0.5\n",
    "    \n",
    "    result = {\n",
    "        \"churn_proba\": float(churn_proba),\n",
    "        \"churn_bool\": bool(churn_bool)\n",
    "    }\n",
    "    \n",
    "    return jsonify(result)\n",
    "\n",
    "\n",
    "if __name__ == \"__main__\":\n",
    "    app.run(debug = True, host = '0.0.0.0', port = 7878)"
   ]
  },
  {
   "cell_type": "code",
   "execution_count": 5,
   "id": "39a12555",
   "metadata": {},
   "outputs": [
    {
     "name": "stdout",
     "output_type": "stream",
     "text": [
      "Overwriting Dockerfile\n"
     ]
    }
   ],
   "source": [
    "%%writefile Dockerfile\n",
    "FROM agrigorev/zoomcamp-model:3.8.12-slim\n",
    "\n",
    "RUN pip install pipenv\n",
    "\n",
    "COPY [\"Pipfile\", \"Pipfile.lock\", \"./\"]\n",
    "\n",
    "RUN pipenv install --system --deploy\n",
    "\n",
    "COPY [\"predict_to_docker.py\", \"./\"]\n",
    "\n",
    "# Port where the App will be Exposed\n",
    "EXPOSE 7878\n",
    "\n",
    "ENTRYPOINT [\"gunicorn\", \"--bind=0.0.0.0:7878\", \"predict_to_docker:app\"]"
   ]
  },
  {
   "cell_type": "markdown",
   "id": "8232ecc6",
   "metadata": {},
   "source": [
    "## Question 6\n",
    "\n",
    "Let's run your docker container!\n",
    "\n",
    "After running it, score this customer:\n",
    "\n",
    "```python\n",
    "url = \"YOUR_URL\"\n",
    "customer = {\"contract\": \"two_year\", \"tenure\": 12, \"monthlycharges\": 10}\n",
    "requests.post(url, json=customer).json()\n",
    "```\n",
    "\n",
    "What's the probability that this customer is churning?"
   ]
  },
  {
   "cell_type": "code",
   "execution_count": 6,
   "id": "6b6667a1",
   "metadata": {},
   "outputs": [
    {
     "data": {
      "text/plain": [
       "{'churn_bool': True, 'churn_proba': 0.7284944888182928}"
      ]
     },
     "execution_count": 6,
     "metadata": {},
     "output_type": "execute_result"
    }
   ],
   "source": [
    "import requests\n",
    "\n",
    "url = \"http://127.0.0.1:7878/predict_churn\"\n",
    "customer = {\"contract\": \"two_year\", \"tenure\": 12, \"monthlycharges\": 10}\n",
    "requests.post(url, json=customer).json()"
   ]
  },
  {
   "cell_type": "code",
   "execution_count": null,
   "id": "9a4b0141",
   "metadata": {},
   "outputs": [],
   "source": []
  },
  {
   "cell_type": "code",
   "execution_count": null,
   "id": "7865c173",
   "metadata": {},
   "outputs": [],
   "source": []
  },
  {
   "cell_type": "code",
   "execution_count": null,
   "id": "66b2713f",
   "metadata": {},
   "outputs": [],
   "source": []
  },
  {
   "cell_type": "code",
   "execution_count": null,
   "id": "f1f12477",
   "metadata": {},
   "outputs": [],
   "source": []
  },
  {
   "cell_type": "code",
   "execution_count": 54,
   "id": "ba527718",
   "metadata": {},
   "outputs": [],
   "source": [
    "# Al final intentarlo en mi laptop"
   ]
  },
  {
   "cell_type": "code",
   "execution_count": null,
   "id": "74491b45",
   "metadata": {},
   "outputs": [],
   "source": [
    "# Explicar esto en mis notas docker run -it --rm --entrypoint=bash -> y ponerlo en el zoomcamp\n",
    "# -it no recuerod\n",
    "# --rm remove the image\n",
    "# entrypoint bash que inicie en la consola, etc."
   ]
  },
  {
   "cell_type": "code",
   "execution_count": null,
   "id": "e35c23da",
   "metadata": {},
   "outputs": [],
   "source": []
  }
 ],
 "metadata": {
  "kernelspec": {
   "display_name": "Python 3 (ipykernel)",
   "language": "python",
   "name": "python3"
  },
  "language_info": {
   "codemirror_mode": {
    "name": "ipython",
    "version": 3
   },
   "file_extension": ".py",
   "mimetype": "text/x-python",
   "name": "python",
   "nbconvert_exporter": "python",
   "pygments_lexer": "ipython3",
   "version": "3.9.12"
  }
 },
 "nbformat": 4,
 "nbformat_minor": 5
}
